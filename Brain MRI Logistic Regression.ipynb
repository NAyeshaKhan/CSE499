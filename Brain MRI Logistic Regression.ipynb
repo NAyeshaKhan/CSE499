{
 "cells": [
  {
   "cell_type": "code",
   "execution_count": 36,
   "id": "84131c7e",
   "metadata": {},
   "outputs": [],
   "source": [
    "import pandas as pd\n",
    "import numpy as np\n",
    "import matplotlib.pyplot as plt\n",
    "import matplotlib.colors as colors\n",
    "from sklearn.utils import resample\n",
    "from sklearn.model_selection import train_test_split\n",
    "from sklearn.preprocessing import scale\n",
    "from sklearn.linear_model import LogisticRegression\n",
    "from sklearn.model_selection import GridSearchCV\n",
    "from sklearn.metrics import confusion_matrix\n",
    "from sklearn.metrics import plot_confusion_matrix\n",
    "from sklearn.decomposition import PCA\n",
    "from sklearn.metrics import accuracy_score\n",
    "from sklearn import metrics"
   ]
  },
  {
   "cell_type": "code",
   "execution_count": 37,
   "id": "d9b810fc",
   "metadata": {},
   "outputs": [],
   "source": [
    "df = pd.read_csv('Phenotypic_V1_0b_preprocessed1.csv')"
   ]
  },
  {
   "cell_type": "code",
   "execution_count": 38,
   "id": "7346d9d2",
   "metadata": {},
   "outputs": [
    {
     "data": {
      "text/html": [
       "<div>\n",
       "<style scoped>\n",
       "    .dataframe tbody tr th:only-of-type {\n",
       "        vertical-align: middle;\n",
       "    }\n",
       "\n",
       "    .dataframe tbody tr th {\n",
       "        vertical-align: top;\n",
       "    }\n",
       "\n",
       "    .dataframe thead th {\n",
       "        text-align: right;\n",
       "    }\n",
       "</style>\n",
       "<table border=\"1\" class=\"dataframe\">\n",
       "  <thead>\n",
       "    <tr style=\"text-align: right;\">\n",
       "      <th></th>\n",
       "      <th>anat_cnr</th>\n",
       "      <th>anat_efc</th>\n",
       "      <th>anat_fber</th>\n",
       "      <th>anat_fwhm</th>\n",
       "      <th>anat_qi1</th>\n",
       "      <th>anat_snr</th>\n",
       "    </tr>\n",
       "  </thead>\n",
       "  <tbody>\n",
       "    <tr>\n",
       "      <th>0</th>\n",
       "      <td>10.201539</td>\n",
       "      <td>1.194664</td>\n",
       "      <td>16.223458</td>\n",
       "      <td>3.878000</td>\n",
       "      <td>0.152711</td>\n",
       "      <td>12.072452</td>\n",
       "    </tr>\n",
       "    <tr>\n",
       "      <th>1</th>\n",
       "      <td>7.165701</td>\n",
       "      <td>1.126752</td>\n",
       "      <td>10.460008</td>\n",
       "      <td>4.282238</td>\n",
       "      <td>0.161716</td>\n",
       "      <td>9.241155</td>\n",
       "    </tr>\n",
       "    <tr>\n",
       "      <th>2</th>\n",
       "      <td>7.698144</td>\n",
       "      <td>1.226218</td>\n",
       "      <td>9.725750</td>\n",
       "      <td>3.881684</td>\n",
       "      <td>0.174186</td>\n",
       "      <td>9.323463</td>\n",
       "    </tr>\n",
       "    <tr>\n",
       "      <th>3</th>\n",
       "      <td>9.071807</td>\n",
       "      <td>1.256278</td>\n",
       "      <td>11.198226</td>\n",
       "      <td>3.628667</td>\n",
       "      <td>0.119269</td>\n",
       "      <td>10.814200</td>\n",
       "    </tr>\n",
       "    <tr>\n",
       "      <th>4</th>\n",
       "      <td>8.026798</td>\n",
       "      <td>1.407166</td>\n",
       "      <td>6.282055</td>\n",
       "      <td>3.674539</td>\n",
       "      <td>0.130647</td>\n",
       "      <td>10.123574</td>\n",
       "    </tr>\n",
       "  </tbody>\n",
       "</table>\n",
       "</div>"
      ],
      "text/plain": [
       "    anat_cnr  anat_efc  anat_fber  anat_fwhm  anat_qi1   anat_snr\n",
       "0  10.201539  1.194664  16.223458   3.878000  0.152711  12.072452\n",
       "1   7.165701  1.126752  10.460008   4.282238  0.161716   9.241155\n",
       "2   7.698144  1.226218   9.725750   3.881684  0.174186   9.323463\n",
       "3   9.071807  1.256278  11.198226   3.628667  0.119269  10.814200\n",
       "4   8.026798  1.407166   6.282055   3.674539  0.130647  10.123574"
      ]
     },
     "execution_count": 38,
     "metadata": {},
     "output_type": "execute_result"
    }
   ],
   "source": [
    "df.drop(df.columns[[0,1,2,3,4,5,6]],axis=1,inplace=True)\n",
    "df.head()"
   ]
  },
  {
   "cell_type": "code",
   "execution_count": 39,
   "id": "8f364178",
   "metadata": {},
   "outputs": [
    {
     "data": {
      "text/html": [
       "<div>\n",
       "<style scoped>\n",
       "    .dataframe tbody tr th:only-of-type {\n",
       "        vertical-align: middle;\n",
       "    }\n",
       "\n",
       "    .dataframe tbody tr th {\n",
       "        vertical-align: top;\n",
       "    }\n",
       "\n",
       "    .dataframe thead th {\n",
       "        text-align: right;\n",
       "    }\n",
       "</style>\n",
       "<table border=\"1\" class=\"dataframe\">\n",
       "  <thead>\n",
       "    <tr style=\"text-align: right;\">\n",
       "      <th></th>\n",
       "      <th>anat_cnr</th>\n",
       "      <th>anat_efc</th>\n",
       "      <th>anat_fber</th>\n",
       "      <th>anat_fwhm</th>\n",
       "      <th>anat_qi1</th>\n",
       "      <th>anat_snr</th>\n",
       "    </tr>\n",
       "  </thead>\n",
       "  <tbody>\n",
       "    <tr>\n",
       "      <th>count</th>\n",
       "      <td>1099.000000</td>\n",
       "      <td>1099.000000</td>\n",
       "      <td>1099.000000</td>\n",
       "      <td>1099.000000</td>\n",
       "      <td>1099.000000</td>\n",
       "      <td>1099.000000</td>\n",
       "    </tr>\n",
       "    <tr>\n",
       "      <th>mean</th>\n",
       "      <td>11.641527</td>\n",
       "      <td>2.079628</td>\n",
       "      <td>72.804971</td>\n",
       "      <td>3.558793</td>\n",
       "      <td>0.072209</td>\n",
       "      <td>48.185793</td>\n",
       "    </tr>\n",
       "    <tr>\n",
       "      <th>std</th>\n",
       "      <td>5.612932</td>\n",
       "      <td>11.435278</td>\n",
       "      <td>155.033640</td>\n",
       "      <td>0.676312</td>\n",
       "      <td>0.052283</td>\n",
       "      <td>282.736653</td>\n",
       "    </tr>\n",
       "    <tr>\n",
       "      <th>min</th>\n",
       "      <td>0.000015</td>\n",
       "      <td>-217.560433</td>\n",
       "      <td>-3.123743</td>\n",
       "      <td>2.533930</td>\n",
       "      <td>0.000451</td>\n",
       "      <td>0.001400</td>\n",
       "    </tr>\n",
       "    <tr>\n",
       "      <th>25%</th>\n",
       "      <td>8.613273</td>\n",
       "      <td>0.755764</td>\n",
       "      <td>3.898699</td>\n",
       "      <td>3.088846</td>\n",
       "      <td>0.040015</td>\n",
       "      <td>12.262756</td>\n",
       "    </tr>\n",
       "    <tr>\n",
       "      <th>50%</th>\n",
       "      <td>10.966648</td>\n",
       "      <td>1.675090</td>\n",
       "      <td>10.341742</td>\n",
       "      <td>3.401205</td>\n",
       "      <td>0.060916</td>\n",
       "      <td>15.601842</td>\n",
       "    </tr>\n",
       "    <tr>\n",
       "      <th>75%</th>\n",
       "      <td>13.181021</td>\n",
       "      <td>3.197335</td>\n",
       "      <td>86.028008</td>\n",
       "      <td>3.831771</td>\n",
       "      <td>0.093534</td>\n",
       "      <td>21.528386</td>\n",
       "    </tr>\n",
       "    <tr>\n",
       "      <th>max</th>\n",
       "      <td>51.691800</td>\n",
       "      <td>33.318370</td>\n",
       "      <td>1734.146859</td>\n",
       "      <td>5.938324</td>\n",
       "      <td>0.259048</td>\n",
       "      <td>5957.198529</td>\n",
       "    </tr>\n",
       "  </tbody>\n",
       "</table>\n",
       "</div>"
      ],
      "text/plain": [
       "          anat_cnr     anat_efc    anat_fber    anat_fwhm     anat_qi1  \\\n",
       "count  1099.000000  1099.000000  1099.000000  1099.000000  1099.000000   \n",
       "mean     11.641527     2.079628    72.804971     3.558793     0.072209   \n",
       "std       5.612932    11.435278   155.033640     0.676312     0.052283   \n",
       "min       0.000015  -217.560433    -3.123743     2.533930     0.000451   \n",
       "25%       8.613273     0.755764     3.898699     3.088846     0.040015   \n",
       "50%      10.966648     1.675090    10.341742     3.401205     0.060916   \n",
       "75%      13.181021     3.197335    86.028008     3.831771     0.093534   \n",
       "max      51.691800    33.318370  1734.146859     5.938324     0.259048   \n",
       "\n",
       "          anat_snr  \n",
       "count  1099.000000  \n",
       "mean     48.185793  \n",
       "std     282.736653  \n",
       "min       0.001400  \n",
       "25%      12.262756  \n",
       "50%      15.601842  \n",
       "75%      21.528386  \n",
       "max    5957.198529  "
      ]
     },
     "execution_count": 39,
     "metadata": {},
     "output_type": "execute_result"
    }
   ],
   "source": [
    "df.describe()"
   ]
  },
  {
   "cell_type": "code",
   "execution_count": 40,
   "id": "788d3645",
   "metadata": {},
   "outputs": [
    {
     "name": "stdout",
     "output_type": "stream",
     "text": [
      "Number of null values:\n",
      "anat_cnr     13\n",
      "anat_efc     13\n",
      "anat_fber    13\n",
      "anat_fwhm    13\n",
      "anat_qi1     13\n",
      "anat_snr     13\n",
      "dtype: int64\n"
     ]
    }
   ],
   "source": [
    "#Checking for null values to fill\n",
    "print(\"Number of null values:\")\n",
    "print(df.isnull().sum())"
   ]
  },
  {
   "cell_type": "code",
   "execution_count": 41,
   "id": "9d785b56",
   "metadata": {},
   "outputs": [],
   "source": [
    "X_features = np.load(\"features.npz\")['a']"
   ]
  },
  {
   "cell_type": "code",
   "execution_count": 42,
   "id": "a769327f",
   "metadata": {},
   "outputs": [],
   "source": [
    "y_target = np.load(\"labels.npz\")['a']"
   ]
  },
  {
   "cell_type": "code",
   "execution_count": 43,
   "id": "31352587",
   "metadata": {},
   "outputs": [],
   "source": [
    "X_train, X_test, y_train, y_test = train_test_split(X_features, y_target, test_size=0.20, random_state = 42, shuffle = True, # shuffle dataset\n",
    "stratify = y_target)"
   ]
  },
  {
   "cell_type": "code",
   "execution_count": 52,
   "id": "10506c8c",
   "metadata": {},
   "outputs": [
    {
     "name": "stdout",
     "output_type": "stream",
     "text": [
      "Training Accuracy for Logistic Regression is  75.43 %\n",
      "Testing Accuracy for Logistic Regression is 66.86 %\n"
     ]
    },
    {
     "name": "stderr",
     "output_type": "stream",
     "text": [
      "c:\\python39\\lib\\site-packages\\sklearn\\linear_model\\_sag.py:352: ConvergenceWarning: The max_iter was reached which means the coef_ did not converge\n",
      "  warnings.warn(\n"
     ]
    }
   ],
   "source": [
    "logmodel_best = LogisticRegression(solver='saga', penalty='l2', C=0.1, max_iter=5, random_state=42)\n",
    "logmodel_best.fit(X_train,y_train)\n",
    "log_train_score = logmodel_best.score(X_train,y_train)*100\n",
    "print(f'Training Accuracy for Logistic Regression is  {round(log_train_score, 2)} %')\n",
    "y_pred_log = logmodel_best.predict(X_test)\n",
    "log_reg = (metrics.accuracy_score(y_test, y_pred_log)*100)\n",
    "print(f\"Testing Accuracy for Logistic Regression is {round(log_reg, 2)} %\")\n"
   ]
  },
  {
   "cell_type": "code",
   "execution_count": 53,
   "id": "b06e49df",
   "metadata": {},
   "outputs": [
    {
     "name": "stdout",
     "output_type": "stream",
     "text": [
      "Confusion matrix for logistic regression: \n"
     ]
    },
    {
     "name": "stderr",
     "output_type": "stream",
     "text": [
      "c:\\python39\\lib\\site-packages\\sklearn\\utils\\deprecation.py:87: FutureWarning: Function plot_confusion_matrix is deprecated; Function `plot_confusion_matrix` is deprecated in 1.0 and will be removed in 1.2. Use one of the class methods: ConfusionMatrixDisplay.from_predictions or ConfusionMatrixDisplay.from_estimator.\n",
      "  warnings.warn(msg, category=FutureWarning)\n"
     ]
    },
    {
     "data": {
      "image/png": "[encoded data removed]",
      "text/plain": [
       "<Figure size 432x288 with 2 Axes>"
      ]
     },
     "metadata": {
      "needs_background": "light"
     },
     "output_type": "display_data"
    }
   ],
   "source": [
    "print(\"Confusion matrix for logistic regression: \")\n",
    "plot_confusion_matrix(logmodel, X_test, y_test)  \n",
    "plt.show()"
   ]
  },
  {
   "cell_type": "code",
   "execution_count": 54,
   "id": "8ebda4df",
   "metadata": {},
   "outputs": [
    {
     "name": "stdout",
     "output_type": "stream",
     "text": [
      "              precision    recall  f1-score   support\n",
      "\n",
      "           1       0.66      0.70      0.68        81\n",
      "           2       0.73      0.68      0.70        94\n",
      "\n",
      "    accuracy                           0.69       175\n",
      "   macro avg       0.69      0.69      0.69       175\n",
      "weighted avg       0.69      0.69      0.69       175\n",
      "\n",
      "0.6914285714285714\n"
     ]
    }
   ],
   "source": [
    "from sklearn.metrics import accuracy_score\n",
    "\n",
    "print(metrics.classification_report(ytest, logmodel.predict(Xtest)))\n",
    "\n",
    "print(accuracy_score(ytest, logmodel.predict(Xtest)))"
   ]
  },
  {
   "cell_type": "code",
   "execution_count": null,
   "id": "2d357a53",
   "metadata": {},
   "outputs": [],
   "source": []
  }
 ],
 "metadata": {
  "kernelspec": {
   "display_name": "Python 3 (ipykernel)",
   "language": "python",
   "name": "python3"
  },
  "language_info": {
   "codemirror_mode": {
    "name": "ipython",
    "version": 3
   },
   "file_extension": ".py",
   "mimetype": "text/x-python",
   "name": "python",
   "nbconvert_exporter": "python",
   "pygments_lexer": "ipython3",
   "version": "3.9.5"
  }
 },
 "nbformat": 4,
 "nbformat_minor": 5
}
