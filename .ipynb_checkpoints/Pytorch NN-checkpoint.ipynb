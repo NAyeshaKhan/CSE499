{
 "cells": [
  {
   "cell_type": "code",
   "execution_count": 19,
   "id": "a4fd717f",
   "metadata": {},
   "outputs": [
    {
     "name": "stdout",
     "output_type": "stream",
     "text": [
      "Phenotypic_V1_0b_preprocessed1.csv\n"
     ]
    }
   ],
   "source": [
    "import csv\n",
    "import torch\n",
    "import numpy as np\n",
    "\n",
    "path=\"Phenotypic_V1_0b_preprocessed1.csv\"\n",
    "print(path)\n"
   ]
  },
  {
   "cell_type": "code",
   "execution_count": 20,
   "id": "9881952c",
   "metadata": {},
   "outputs": [
    {
     "name": "stdout",
     "output_type": "stream",
     "text": [
      "['1,50002,1,50002,PITT,no_filename,1,10.20153877,1.194663818,16.22345825,3.878000404,0.152710978,12.07245188'\n",
      " '2,50003,2,50003,PITT,Pitt_0050003,1,7.165701466,1.126751612,10.4600076,4.282238006,0.161715589,9.241154558'\n",
      " '3,50004,3,50004,PITT,Pitt_0050004,1,7.698144375,1.226217716,9.725750457,3.881684291,0.174185723,9.323462773'\n",
      " ...\n",
      " '1110,51585,1110,51585,SBL,SBL_0051585,1,3.413468935,1.358237642,4.335699832,3.32455,0.109489915,4.933959557'\n",
      " '1111,51606,1111,51606,MAX_MUN,MaxMun_a_0051606,1,7.839006775,1.754362606,12.27005481,3.23217,0.083964371,16.4031739'\n",
      " '1112,51607,1112,51607,MAX_MUN,MaxMun_a_0051607,1,12.16929687,2.818351948,9.272107118,3.51019,0.04430978,23.56598215']\n"
     ]
    }
   ],
   "source": [
    "data=np.loadtxt(path, dtype=str, delimiter=\";\", skiprows=1)\n",
    "type(data)\n",
    "print(data)"
   ]
  },
  {
   "cell_type": "code",
   "execution_count": 21,
   "id": "4e842b38",
   "metadata": {},
   "outputs": [
    {
     "name": "stdout",
     "output_type": "stream",
     "text": [
      "['Unnamed: 0,SUB_ID,X,subject,SITE_ID,FILE_ID,DX_GROUP,anat_cnr,anat_efc,anat_fber,anat_fwhm,anat_qi1,anat_snr']\n"
     ]
    }
   ],
   "source": [
    "col_names=next(csv.reader(open(path),delimiter=\";\"))\n",
    "print(col_names)"
   ]
  },
  {
   "cell_type": "code",
   "execution_count": 26,
   "id": "2989e199",
   "metadata": {},
   "outputs": [
    {
     "data": {
      "text/plain": [
       "(1112,)"
      ]
     },
     "execution_count": 26,
     "metadata": {},
     "output_type": "execute_result"
    }
   ],
   "source": [
    "data_pytorch=data.tolist\n",
    "data.shape"
   ]
  },
  {
   "cell_type": "code",
   "execution_count": null,
   "id": "65409dee",
   "metadata": {},
   "outputs": [],
   "source": [
    "#one-hot encoding"
   ]
  }
 ],
 "metadata": {
  "kernelspec": {
   "display_name": "Python 3 (ipykernel)",
   "language": "python",
   "name": "python3"
  },
  "language_info": {
   "codemirror_mode": {
    "name": "ipython",
    "version": 3
   },
   "file_extension": ".py",
   "mimetype": "text/x-python",
   "name": "python",
   "nbconvert_exporter": "python",
   "pygments_lexer": "ipython3",
   "version": "3.9.5"
  }
 },
 "nbformat": 4,
 "nbformat_minor": 5
}
