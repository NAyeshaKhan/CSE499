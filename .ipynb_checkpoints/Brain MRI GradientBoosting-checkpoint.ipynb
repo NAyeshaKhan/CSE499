{
 "cells": [
  {
   "cell_type": "code",
   "execution_count": 17,
   "id": "05a850ab",
   "metadata": {},
   "outputs": [],
   "source": [
    "import numpy as np\n",
    "\n",
    "from sklearn.model_selection import train_test_split\n",
    "from sklearn.ensemble import GradientBoostingClassifier\n",
    "from sklearn.model_selection import GridSearchCV\n",
    "from sklearn.metrics import roc_auc_score\n",
    "\n",
    "from matplotlib import pyplot as plt\n",
    "import matplotlib.colors as colors\n",
    "\n",
    "from sklearn.utils import resample\n",
    "from sklearn.model_selection import train_test_split\n",
    "from sklearn.preprocessing import scale\n",
    "from sklearn.metrics import confusion_matrix\n",
    "from sklearn.metrics import plot_confusion_matrix\n",
    "from sklearn.metrics import accuracy_score\n",
    "from sklearn import metrics"
   ]
  },
  {
   "cell_type": "code",
   "execution_count": 18,
   "id": "f4ee551b",
   "metadata": {},
   "outputs": [],
   "source": [
    "y_target = np.load(\"labels.npz\")['a']\n",
    "X_features = np.load(\"features.npz\")['a']"
   ]
  },
  {
   "cell_type": "code",
   "execution_count": 19,
   "id": "47322404",
   "metadata": {},
   "outputs": [],
   "source": [
    "X_train, X_test, y_train, y_test = train_test_split(X_features, y_target, test_size=0.2, random_state = 42)"
   ]
  },
  {
   "cell_type": "code",
   "execution_count": 20,
   "id": "c8157979",
   "metadata": {},
   "outputs": [
    {
     "name": "stdout",
     "output_type": "stream",
     "text": [
      "      Iter       Train Loss   Remaining Time \n",
      "         1           1.3309            4.04m\n",
      "         2           1.2917            3.81m\n",
      "         3           1.2502            3.77m\n",
      "         4           1.2169            3.65m\n",
      "         5           1.1829            3.55m\n",
      "         6           1.1498            3.50m\n",
      "         7           1.1157            3.51m\n",
      "         8           1.0864            3.53m\n",
      "         9           1.0574            3.51m\n",
      "        10           1.0300            3.49m\n",
      "        20           0.8296            3.54m\n",
      "        30           0.6923            3.48m\n",
      "        40           0.5786            3.87m\n"
     ]
    },
    {
     "data": {
      "text/plain": [
       "GradientBoostingClassifier(n_estimators=500, n_iter_no_change=20, verbose=1)"
      ]
     },
     "execution_count": 20,
     "metadata": {},
     "output_type": "execute_result"
    }
   ],
   "source": [
    "model_gbm = GradientBoostingClassifier(n_estimators=500,\n",
    "                                      learning_rate=0.1,\n",
    "                                      max_depth=3,\n",
    "                                      n_iter_no_change=20,\n",
    "                                      verbose=1)\n",
    "\n",
    "model_gbm.fit(X_train, y_train)"
   ]
  },
  {
   "cell_type": "code",
   "execution_count": 21,
   "id": "5a16c4ee",
   "metadata": {},
   "outputs": [
    {
     "name": "stdout",
     "output_type": "stream",
     "text": [
      "Training Accuracy is 95.11 %\n",
      "Testing Accuracy is 58.29 %\n"
     ]
    }
   ],
   "source": [
    "model_gbm_score = model_gbm.score(X_train,y_train)*100\n",
    "print(f'Training Accuracy is {round(model_gbm_score, 2)} %')\n",
    "y_pred = model_gbm.predict(X_test)\n",
    "gbm_test_acc = (metrics.accuracy_score(y_test, y_pred)*100)\n",
    "print(f\"Testing Accuracy is {round(gbm_test_acc, 2)} %\")"
   ]
  },
  {
   "cell_type": "code",
   "execution_count": 22,
   "id": "eed64615",
   "metadata": {},
   "outputs": [
    {
     "name": "stdout",
     "output_type": "stream",
     "text": [
      "Confusion matrix for logistic regression: \n"
     ]
    },
    {
     "name": "stderr",
     "output_type": "stream",
     "text": [
      "c:\\users\\user\\appdata\\local\\programs\\python\\python39\\lib\\site-packages\\sklearn\\utils\\deprecation.py:87: FutureWarning: Function plot_confusion_matrix is deprecated; Function `plot_confusion_matrix` is deprecated in 1.0 and will be removed in 1.2. Use one of the class methods: ConfusionMatrixDisplay.from_predictions or ConfusionMatrixDisplay.from_estimator.\n",
      "  warnings.warn(msg, category=FutureWarning)\n"
     ]
    },
    {
     "data": {
      "image/png": "[encoded data removed]",
      "text/plain": [
       "<Figure size 432x288 with 2 Axes>"
      ]
     },
     "metadata": {
      "needs_background": "light"
     },
     "output_type": "display_data"
    }
   ],
   "source": [
    "print(\"Confusion matrix for logistic regression: \")\n",
    "plot_confusion_matrix(model_gbm, X_test, y_test)  \n",
    "plt.show()"
   ]
  },
  {
   "cell_type": "code",
   "execution_count": 23,
   "id": "78db44d7",
   "metadata": {},
   "outputs": [
    {
     "name": "stdout",
     "output_type": "stream",
     "text": [
      "              precision    recall  f1-score   support\n",
      "\n",
      "           1       0.57      0.49      0.53        83\n",
      "           2       0.59      0.66      0.63        92\n",
      "\n",
      "    accuracy                           0.58       175\n",
      "   macro avg       0.58      0.58      0.58       175\n",
      "weighted avg       0.58      0.58      0.58       175\n",
      "\n",
      "0.5828571428571429\n"
     ]
    }
   ],
   "source": [
    "from sklearn.metrics import accuracy_score\n",
    "\n",
    "print(metrics.classification_report(y_test, model_gbm.predict(X_test)))\n",
    "\n",
    "print(accuracy_score(y_test, model_gbm.predict(X_test)))"
   ]
  },
  {
   "cell_type": "code",
   "execution_count": 24,
   "id": "563beb4d",
   "metadata": {},
   "outputs": [
    {
     "name": "stdout",
     "output_type": "stream",
     "text": [
      "      Iter       Train Loss   Remaining Time \n",
      "         1           1.2373           46.28s\n",
      "         2           1.1169           49.42s\n",
      "         3           1.0176           55.85s\n",
      "         4           0.9402           54.41s\n",
      "         5           0.8675           52.53s\n",
      "         6           0.8143           49.43s\n",
      "         7           0.7612           47.76s\n",
      "         8           0.6997           45.70s\n",
      "         9           0.6474           43.85s\n",
      "        10           0.5973           42.71s\n",
      "        20           0.3135           38.18s\n",
      "      Iter       Train Loss   Remaining Time \n",
      "         1           1.2634           40.31s\n",
      "         2           1.1531           43.96s\n",
      "         3           1.0753           48.58s\n",
      "         4           0.9916           47.49s\n",
      "         5           0.9327           47.00s\n",
      "         6           0.8579           45.82s\n",
      "         7           0.8072           45.16s\n",
      "         8           0.7535           44.35s\n",
      "         9           0.7019           43.96s\n",
      "        10           0.6649           42.71s\n",
      "        20           0.3505           38.37s\n",
      "        30           0.2004           36.61s\n",
      "        40           0.1153           35.67s\n",
      "        50           0.0715           34.63s\n",
      "        60           0.0442           35.42s\n",
      "      Iter       Train Loss   Remaining Time \n",
      "         1           1.2444           58.23s\n",
      "         2           1.1233           57.86s\n",
      "         3           1.0264           54.19s\n",
      "         4           0.9585           53.67s\n",
      "         5           0.8771           53.22s\n",
      "         6           0.8137           52.63s\n",
      "         7           0.7481           50.92s\n",
      "         8           0.6917           50.23s\n",
      "         9           0.6367           49.30s\n",
      "        10           0.5899           48.87s\n",
      "        20           0.2859           46.39s\n",
      "      Iter       Train Loss   Remaining Time \n",
      "         1           1.2658           30.86s\n",
      "         2           1.1624           31.29s\n",
      "         3           1.0694           32.55s\n",
      "         4           0.9776           31.78s\n",
      "         5           0.8933           31.99s\n",
      "         6           0.8248           32.93s\n",
      "         7           0.7608           32.66s\n",
      "         8           0.7065           32.57s\n",
      "         9           0.6602           32.97s\n",
      "        10           0.6193           32.74s\n",
      "        20           0.3224           34.52s\n",
      "      Iter       Train Loss   Remaining Time \n",
      "         1           1.2437           30.36s\n",
      "         2           1.1314           35.76s\n",
      "         3           1.0349           37.01s\n",
      "         4           0.9420           37.10s\n",
      "         5           0.8720           37.52s\n",
      "         6           0.8008           37.03s\n",
      "         7           0.7578           37.09s\n",
      "         8           0.7069           37.17s\n",
      "         9           0.6532           36.94s\n",
      "        10           0.6135           37.48s\n",
      "        20           0.3030           36.14s\n",
      "Average CV Score:  0.5257142857142857\n"
     ]
    }
   ],
   "source": [
    "from sklearn.model_selection import KFold, cross_val_score \n",
    "\n",
    "k_folds = KFold(n_splits = 5)\n",
    "\n",
    "scores = cross_val_score(model_gbm, X_test, y_test, cv = k_folds) \n",
    "print(\"Average CV Score: \", scores.mean())"
   ]
  }
 ],
 "metadata": {
  "kernelspec": {
   "display_name": "Python 3 (ipykernel)",
   "language": "python",
   "name": "python3"
  },
  "language_info": {
   "codemirror_mode": {
    "name": "ipython",
    "version": 3
   },
   "file_extension": ".py",
   "mimetype": "text/x-python",
   "name": "python",
   "nbconvert_exporter": "python",
   "pygments_lexer": "ipython3",
   "version": "3.9.5"
  }
 },
 "nbformat": 4,
 "nbformat_minor": 5
}
