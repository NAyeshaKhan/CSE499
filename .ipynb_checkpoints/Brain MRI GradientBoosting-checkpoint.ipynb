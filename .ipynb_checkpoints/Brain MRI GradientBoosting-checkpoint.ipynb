{
 "cells": [
  {
   "cell_type": "code",
   "execution_count": 150,
   "id": "05a850ab",
   "metadata": {},
   "outputs": [],
   "source": [
    "import numpy as np\n",
    "\n",
    "from sklearn.model_selection import train_test_split\n",
    "from sklearn.ensemble import GradientBoostingClassifier\n",
    "from sklearn.model_selection import GridSearchCV\n",
    "from sklearn.metrics import roc_auc_score\n",
    "\n",
    "from matplotlib import pyplot as plt\n",
    "import matplotlib.colors as colors\n",
    "\n",
    "from sklearn.utils import resample\n",
    "from sklearn.model_selection import train_test_split\n",
    "from sklearn.preprocessing import scale\n",
    "from sklearn.metrics import confusion_matrix\n",
    "from sklearn.metrics import plot_confusion_matrix\n",
    "from sklearn.metrics import accuracy_score\n",
    "from sklearn import metrics"
   ]
  },
  {
   "cell_type": "code",
   "execution_count": 151,
   "id": "f4ee551b",
   "metadata": {},
   "outputs": [],
   "source": [
    "y_target = np.load(\"labels.npz\")['a']\n",
    "X_features = np.load(\"features.npz\")['a']"
   ]
  },
  {
   "cell_type": "code",
   "execution_count": 152,
   "id": "47322404",
   "metadata": {},
   "outputs": [],
   "source": [
    "X_train, X_test, y_train, y_test = train_test_split(X_features, y_target, test_size=0.2, random_state = 42)"
   ]
  },
  {
   "cell_type": "code",
   "execution_count": 153,
   "id": "c8157979",
   "metadata": {},
   "outputs": [
    {
     "name": "stdout",
     "output_type": "stream",
     "text": [
      "      Iter       Train Loss   Remaining Time \n",
      "         1           1.3287            2.11m\n",
      "         2           1.2925            2.13m\n",
      "         3           1.2520            2.08m\n",
      "         4           1.2155            2.07m\n",
      "         5           1.1881            2.07m\n",
      "         6           1.1554            2.05m\n",
      "         7           1.1250            2.05m\n",
      "         8           1.0989            2.06m\n",
      "         9           1.0696            2.05m\n",
      "        10           1.0519            2.06m\n",
      "        20           0.8516            2.05m\n"
     ]
    },
    {
     "data": {
      "text/plain": [
       "GradientBoostingClassifier(n_estimators=500, n_iter_no_change=20, verbose=1)"
      ]
     },
     "execution_count": 153,
     "metadata": {},
     "output_type": "execute_result"
    }
   ],
   "source": [
    "model_gbm = GradientBoostingClassifier(n_estimators=500,\n",
    "                                      learning_rate=0.1,\n",
    "                                      max_depth=3,\n",
    "                                      n_iter_no_change=20,\n",
    "                                      verbose=1)\n",
    "\n",
    "model_gbm.fit(X_train, y_train)"
   ]
  },
  {
   "cell_type": "code",
   "execution_count": 154,
   "id": "5a16c4ee",
   "metadata": {},
   "outputs": [
    {
     "name": "stdout",
     "output_type": "stream",
     "text": [
      "Training Accuracy is 92.1 %\n",
      "Testing Accuracy is 61.71 %\n"
     ]
    }
   ],
   "source": [
    "model_gbm_score = model_gbm.score(X_train,y_train)*100\n",
    "print(f'Training Accuracy is {round(model_gbm_score, 2)} %')\n",
    "y_pred = model_gbm.predict(X_test)\n",
    "gbm_test_acc = (metrics.accuracy_score(y_test, y_pred)*100)\n",
    "print(f\"Testing Accuracy is {round(gbm_test_acc, 2)} %\")"
   ]
  },
  {
   "cell_type": "code",
   "execution_count": 155,
   "id": "eed64615",
   "metadata": {},
   "outputs": [
    {
     "name": "stdout",
     "output_type": "stream",
     "text": [
      "Confusion matrix for logistic regression: \n"
     ]
    },
    {
     "name": "stderr",
     "output_type": "stream",
     "text": [
      "C:\\Users\\Watchtower\\anaconda3\\lib\\site-packages\\sklearn\\utils\\deprecation.py:87: FutureWarning: Function plot_confusion_matrix is deprecated; Function `plot_confusion_matrix` is deprecated in 1.0 and will be removed in 1.2. Use one of the class methods: ConfusionMatrixDisplay.from_predictions or ConfusionMatrixDisplay.from_estimator.\n",
      "  warnings.warn(msg, category=FutureWarning)\n"
     ]
    },
    {
     "data": {
      "image/png": "[encoded data removed]",
      "text/plain": [
       "<Figure size 432x288 with 2 Axes>"
      ]
     },
     "metadata": {
      "needs_background": "light"
     },
     "output_type": "display_data"
    }
   ],
   "source": [
    "print(\"Confusion matrix for logistic regression: \")\n",
    "plot_confusion_matrix(model_gbm, X_test, y_test)  \n",
    "plt.show()"
   ]
  },
  {
   "cell_type": "code",
   "execution_count": 156,
   "id": "78db44d7",
   "metadata": {},
   "outputs": [
    {
     "name": "stdout",
     "output_type": "stream",
     "text": [
      "              precision    recall  f1-score   support\n",
      "\n",
      "           1       0.62      0.51      0.56        83\n",
      "           2       0.62      0.72      0.66        92\n",
      "\n",
      "    accuracy                           0.62       175\n",
      "   macro avg       0.62      0.61      0.61       175\n",
      "weighted avg       0.62      0.62      0.61       175\n",
      "\n",
      "0.6171428571428571\n"
     ]
    }
   ],
   "source": [
    "from sklearn.metrics import accuracy_score\n",
    "\n",
    "print(metrics.classification_report(y_test, model_gbm.predict(X_test)))\n",
    "\n",
    "print(accuracy_score(y_test, model_gbm.predict(X_test)))"
   ]
  },
  {
   "cell_type": "code",
   "execution_count": null,
   "id": "563beb4d",
   "metadata": {},
   "outputs": [],
   "source": []
  }
 ],
 "metadata": {
  "kernelspec": {
   "display_name": "Python 3 (ipykernel)",
   "language": "python",
   "name": "python3"
  },
  "language_info": {
   "codemirror_mode": {
    "name": "ipython",
    "version": 3
   },
   "file_extension": ".py",
   "mimetype": "text/x-python",
   "name": "python",
   "nbconvert_exporter": "python",
   "pygments_lexer": "ipython3",
   "version": "3.9.12"
  }
 },
 "nbformat": 4,
 "nbformat_minor": 5
}
