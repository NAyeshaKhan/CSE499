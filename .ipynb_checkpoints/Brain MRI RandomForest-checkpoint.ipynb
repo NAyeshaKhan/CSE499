{
 "cells": [
  {
   "cell_type": "code",
   "execution_count": 1,
   "id": "288b61d3",
   "metadata": {},
   "outputs": [
    {
     "data": {
      "text/html": [
       "<div>\n",
       "<style scoped>\n",
       "    .dataframe tbody tr th:only-of-type {\n",
       "        vertical-align: middle;\n",
       "    }\n",
       "\n",
       "    .dataframe tbody tr th {\n",
       "        vertical-align: top;\n",
       "    }\n",
       "\n",
       "    .dataframe thead th {\n",
       "        text-align: right;\n",
       "    }\n",
       "</style>\n",
       "<table border=\"1\" class=\"dataframe\">\n",
       "  <thead>\n",
       "    <tr style=\"text-align: right;\">\n",
       "      <th></th>\n",
       "      <th>Unnamed: 0</th>\n",
       "      <th>SUB_ID</th>\n",
       "      <th>X</th>\n",
       "      <th>subject</th>\n",
       "      <th>SITE_ID</th>\n",
       "      <th>FILE_ID</th>\n",
       "      <th>DX_GROUP</th>\n",
       "      <th>anat_cnr</th>\n",
       "      <th>anat_efc</th>\n",
       "      <th>anat_fber</th>\n",
       "      <th>anat_fwhm</th>\n",
       "      <th>anat_qi1</th>\n",
       "      <th>anat_snr</th>\n",
       "    </tr>\n",
       "  </thead>\n",
       "  <tbody>\n",
       "    <tr>\n",
       "      <th>1107</th>\n",
       "      <td>1108</td>\n",
       "      <td>51583</td>\n",
       "      <td>1108</td>\n",
       "      <td>51583</td>\n",
       "      <td>SBL</td>\n",
       "      <td>SBL_0051583</td>\n",
       "      <td>1</td>\n",
       "      <td>3.899774</td>\n",
       "      <td>1.697271</td>\n",
       "      <td>3.465151</td>\n",
       "      <td>3.31883</td>\n",
       "      <td>0.096813</td>\n",
       "      <td>5.434540</td>\n",
       "    </tr>\n",
       "    <tr>\n",
       "      <th>1108</th>\n",
       "      <td>1109</td>\n",
       "      <td>51584</td>\n",
       "      <td>1109</td>\n",
       "      <td>51584</td>\n",
       "      <td>SBL</td>\n",
       "      <td>SBL_0051584</td>\n",
       "      <td>1</td>\n",
       "      <td>2.757735</td>\n",
       "      <td>1.073076</td>\n",
       "      <td>7.633618</td>\n",
       "      <td>3.30937</td>\n",
       "      <td>0.104817</td>\n",
       "      <td>4.516250</td>\n",
       "    </tr>\n",
       "    <tr>\n",
       "      <th>1109</th>\n",
       "      <td>1110</td>\n",
       "      <td>51585</td>\n",
       "      <td>1110</td>\n",
       "      <td>51585</td>\n",
       "      <td>SBL</td>\n",
       "      <td>SBL_0051585</td>\n",
       "      <td>1</td>\n",
       "      <td>3.413469</td>\n",
       "      <td>1.358238</td>\n",
       "      <td>4.335700</td>\n",
       "      <td>3.32455</td>\n",
       "      <td>0.109490</td>\n",
       "      <td>4.933960</td>\n",
       "    </tr>\n",
       "    <tr>\n",
       "      <th>1110</th>\n",
       "      <td>1111</td>\n",
       "      <td>51606</td>\n",
       "      <td>1111</td>\n",
       "      <td>51606</td>\n",
       "      <td>MAX_MUN</td>\n",
       "      <td>MaxMun_a_0051606</td>\n",
       "      <td>1</td>\n",
       "      <td>7.839007</td>\n",
       "      <td>1.754363</td>\n",
       "      <td>12.270055</td>\n",
       "      <td>3.23217</td>\n",
       "      <td>0.083964</td>\n",
       "      <td>16.403174</td>\n",
       "    </tr>\n",
       "    <tr>\n",
       "      <th>1111</th>\n",
       "      <td>1112</td>\n",
       "      <td>51607</td>\n",
       "      <td>1112</td>\n",
       "      <td>51607</td>\n",
       "      <td>MAX_MUN</td>\n",
       "      <td>MaxMun_a_0051607</td>\n",
       "      <td>1</td>\n",
       "      <td>12.169297</td>\n",
       "      <td>2.818352</td>\n",
       "      <td>9.272107</td>\n",
       "      <td>3.51019</td>\n",
       "      <td>0.044310</td>\n",
       "      <td>23.565982</td>\n",
       "    </tr>\n",
       "  </tbody>\n",
       "</table>\n",
       "</div>"
      ],
      "text/plain": [
       "      Unnamed: 0  SUB_ID     X  subject  SITE_ID           FILE_ID  DX_GROUP  \\\n",
       "1107        1108   51583  1108    51583      SBL       SBL_0051583         1   \n",
       "1108        1109   51584  1109    51584      SBL       SBL_0051584         1   \n",
       "1109        1110   51585  1110    51585      SBL       SBL_0051585         1   \n",
       "1110        1111   51606  1111    51606  MAX_MUN  MaxMun_a_0051606         1   \n",
       "1111        1112   51607  1112    51607  MAX_MUN  MaxMun_a_0051607         1   \n",
       "\n",
       "       anat_cnr  anat_efc  anat_fber  anat_fwhm  anat_qi1   anat_snr  \n",
       "1107   3.899774  1.697271   3.465151    3.31883  0.096813   5.434540  \n",
       "1108   2.757735  1.073076   7.633618    3.30937  0.104817   4.516250  \n",
       "1109   3.413469  1.358238   4.335700    3.32455  0.109490   4.933960  \n",
       "1110   7.839007  1.754363  12.270055    3.23217  0.083964  16.403174  \n",
       "1111  12.169297  2.818352   9.272107    3.51019  0.044310  23.565982  "
      ]
     },
     "execution_count": 1,
     "metadata": {},
     "output_type": "execute_result"
    }
   ],
   "source": [
    "import pandas as pd\n",
    "import numpy as np\n",
    "\n",
    "from matplotlib import pyplot as plt\n",
    "from sklearn.ensemble import RandomForestClassifier\n",
    "from sklearn import tree\n",
    "from sklearn.model_selection import train_test_split\n",
    "\n",
    "from sklearn.metrics import accuracy_score \n",
    "import pickle\n",
    "import joblib\n",
    "\n",
    "df=pd.read_csv('Phenotypic_V1_0b_preprocessed1.csv')\n",
    "df.tail()"
   ]
  },
  {
   "cell_type": "code",
   "execution_count": 2,
   "id": "74ba3bee",
   "metadata": {},
   "outputs": [
    {
     "data": {
      "text/plain": [
       "False"
      ]
     },
     "execution_count": 2,
     "metadata": {},
     "output_type": "execute_result"
    }
   ],
   "source": [
    "np.isnan(df.values.any()) "
   ]
  },
  {
   "cell_type": "code",
   "execution_count": 3,
   "id": "f330ca8c",
   "metadata": {},
   "outputs": [],
   "source": [
    "X_features = np.load(\"features.npz\")['a']\n",
    "y_target = np.load(\"labels.npz\")['a']\n",
    "\n",
    "Xtrain, Xtest, ytrain, ytest = train_test_split(X_features, y_target, test_size=0.20, random_state = 42, shuffle = True, # shuffle dataset\n",
    "stratify = y_target)"
   ]
  },
  {
   "cell_type": "code",
   "execution_count": 4,
   "id": "a19bd440",
   "metadata": {
    "scrolled": true
   },
   "outputs": [
    {
     "name": "stderr",
     "output_type": "stream",
     "text": [
      "c:\\users\\user\\appdata\\local\\programs\\python\\python39\\lib\\site-packages\\sklearn\\ensemble\\_forest.py:427: FutureWarning: `max_features='auto'` has been deprecated in 1.1 and will be removed in 1.3. To keep the past behaviour, explicitly set `max_features='sqrt'` or remove this parameter as it is also the default value for RandomForestClassifiers and ExtraTreesClassifiers.\n",
      "  warn(\n"
     ]
    }
   ],
   "source": [
    "model=RandomForestClassifier(bootstrap=True, class_weight=None, criterion='entropy',\n",
    "            max_depth=7, max_features='auto', max_leaf_nodes=None,\n",
    "            min_impurity_decrease=0.0,\n",
    "            min_samples_leaf=1, min_samples_split=2,\n",
    "            min_weight_fraction_leaf=0.0, n_estimators=100, n_jobs=1,\n",
    "            oob_score=False, random_state=None, verbose=0,\n",
    "            warm_start=False)\n",
    "model.fit(Xtrain,ytrain)\n",
    "\n",
    "y_pred=model.predict(Xtest)"
   ]
  },
  {
   "cell_type": "code",
   "execution_count": 5,
   "id": "de89638c",
   "metadata": {},
   "outputs": [
    {
     "name": "stdout",
     "output_type": "stream",
     "text": [
      "Train Accuracy: 0.9985632183908046\n",
      "Test Accuracy: 0.6\n"
     ]
    }
   ],
   "source": [
    "print(\"Train Accuracy:\",model.score(Xtrain, ytrain))\n",
    "print(\"Test Accuracy:\", model.score(Xtest, ytest))"
   ]
  },
  {
   "cell_type": "code",
   "execution_count": 6,
   "id": "a5a4817c",
   "metadata": {
    "scrolled": true
   },
   "outputs": [
    {
     "name": "stdout",
     "output_type": "stream",
     "text": [
      "              precision    recall  f1-score   support\n",
      "\n",
      "           1       0.58      0.51      0.54        81\n",
      "           2       0.62      0.68      0.65        94\n",
      "\n",
      "    accuracy                           0.60       175\n",
      "   macro avg       0.60      0.59      0.59       175\n",
      "weighted avg       0.60      0.60      0.60       175\n",
      "\n",
      "0.6\n"
     ]
    }
   ],
   "source": [
    "from sklearn import metrics\n",
    "\n",
    "#Classification accuracy\n",
    "print(metrics.classification_report(ytest, model.predict(Xtest)))\n",
    "\n",
    "print(accuracy_score(ytest, model.predict(Xtest)))"
   ]
  },
  {
   "cell_type": "code",
   "execution_count": 7,
   "id": "ee95c7fc",
   "metadata": {},
   "outputs": [
    {
     "name": "stderr",
     "output_type": "stream",
     "text": [
      "c:\\users\\user\\appdata\\local\\programs\\python\\python39\\lib\\site-packages\\sklearn\\utils\\deprecation.py:87: FutureWarning: Function plot_confusion_matrix is deprecated; Function `plot_confusion_matrix` is deprecated in 1.0 and will be removed in 1.2. Use one of the class methods: ConfusionMatrixDisplay.from_predictions or ConfusionMatrixDisplay.from_estimator.\n",
      "  warnings.warn(msg, category=FutureWarning)\n"
     ]
    },
    {
     "data": {
      "text/plain": [
       "<sklearn.metrics._plot.confusion_matrix.ConfusionMatrixDisplay at 0x1dcf59bd7f0>"
      ]
     },
     "execution_count": 7,
     "metadata": {},
     "output_type": "execute_result"
    },
    {
     "data": {
      "image/png": "[encoded data removed]",
      "text/plain": [
       "<Figure size 432x288 with 2 Axes>"
      ]
     },
     "metadata": {
      "needs_background": "light"
     },
     "output_type": "display_data"
    }
   ],
   "source": [
    "from sklearn.metrics import plot_confusion_matrix\n",
    "plot_confusion_matrix(model,\n",
    "                      Xtest, ytest,\n",
    "                      values_format='d',\n",
    "                      display_labels=[\"ASD\",\"TD\"], cmap=\"Blues\")"
   ]
  },
  {
   "cell_type": "code",
   "execution_count": 8,
   "id": "c90dda6d",
   "metadata": {},
   "outputs": [
    {
     "name": "stderr",
     "output_type": "stream",
     "text": [
      "c:\\users\\user\\appdata\\local\\programs\\python\\python39\\lib\\site-packages\\sklearn\\ensemble\\_forest.py:427: FutureWarning: `max_features='auto'` has been deprecated in 1.1 and will be removed in 1.3. To keep the past behaviour, explicitly set `max_features='sqrt'` or remove this parameter as it is also the default value for RandomForestClassifiers and ExtraTreesClassifiers.\n",
      "  warn(\n",
      "c:\\users\\user\\appdata\\local\\programs\\python\\python39\\lib\\site-packages\\sklearn\\ensemble\\_forest.py:427: FutureWarning: `max_features='auto'` has been deprecated in 1.1 and will be removed in 1.3. To keep the past behaviour, explicitly set `max_features='sqrt'` or remove this parameter as it is also the default value for RandomForestClassifiers and ExtraTreesClassifiers.\n",
      "  warn(\n",
      "c:\\users\\user\\appdata\\local\\programs\\python\\python39\\lib\\site-packages\\sklearn\\ensemble\\_forest.py:427: FutureWarning: `max_features='auto'` has been deprecated in 1.1 and will be removed in 1.3. To keep the past behaviour, explicitly set `max_features='sqrt'` or remove this parameter as it is also the default value for RandomForestClassifiers and ExtraTreesClassifiers.\n",
      "  warn(\n",
      "c:\\users\\user\\appdata\\local\\programs\\python\\python39\\lib\\site-packages\\sklearn\\ensemble\\_forest.py:427: FutureWarning: `max_features='auto'` has been deprecated in 1.1 and will be removed in 1.3. To keep the past behaviour, explicitly set `max_features='sqrt'` or remove this parameter as it is also the default value for RandomForestClassifiers and ExtraTreesClassifiers.\n",
      "  warn(\n",
      "c:\\users\\user\\appdata\\local\\programs\\python\\python39\\lib\\site-packages\\sklearn\\ensemble\\_forest.py:427: FutureWarning: `max_features='auto'` has been deprecated in 1.1 and will be removed in 1.3. To keep the past behaviour, explicitly set `max_features='sqrt'` or remove this parameter as it is also the default value for RandomForestClassifiers and ExtraTreesClassifiers.\n",
      "  warn(\n"
     ]
    },
    {
     "name": "stdout",
     "output_type": "stream",
     "text": [
      "Average CV Score:  0.5428571428571429\n"
     ]
    }
   ],
   "source": [
    "from sklearn.model_selection import KFold, cross_val_score \n",
    "\n",
    "k_folds = KFold(n_splits = 5)\n",
    "\n",
    "scores = cross_val_score(model, Xtest, ytest, cv = k_folds) \n",
    "print(\"Average CV Score: \", scores.mean())"
   ]
  },
  {
   "cell_type": "code",
   "execution_count": 9,
   "id": "3c5ce9be",
   "metadata": {},
   "outputs": [
    {
     "data": {
      "image/png": "[encoded data removed]",
      "text/plain": [
       "<Figure size 576x396 with 1 Axes>"
      ]
     },
     "metadata": {},
     "output_type": "display_data"
    }
   ],
   "source": [
    "# predict probabilities\n",
    "\n",
    "pred_prob = model.predict_proba(Xtest)\n",
    "from sklearn.metrics import roc_curve\n",
    "\n",
    "# roc curve for models\n",
    "fpr, tpr, thresh = roc_curve(ytest, pred_prob[:,1], pos_label=1)\n",
    "\n",
    "# roc curve for tpr = fpr \n",
    "random_probs = [0 for i in range(len(ytest))]\n",
    "p_fpr, p_tpr, _ = roc_curve(ytest, random_probs, pos_label=1)\n",
    "\n",
    "import matplotlib.pyplot as plt\n",
    "plt.style.use('seaborn')\n",
    "\n",
    "# plot roc curves\n",
    "plt.plot(fpr, tpr, linestyle='--',color='orange', label='Random Forest')\n",
    "plt.plot(p_fpr, p_tpr, linestyle='--', color='blue')\n",
    "# title\n",
    "plt.title('ROC curve')\n",
    "# x label\n",
    "plt.xlabel('False Positive Rate')\n",
    "# y label\n",
    "plt.ylabel('True Positive rate')\n",
    "\n",
    "plt.legend(loc='best')\n",
    "plt.savefig('ROC',dpi=300)\n",
    "plt.show();"
   ]
  },
  {
   "cell_type": "code",
   "execution_count": null,
   "id": "6ddf1ad6",
   "metadata": {},
   "outputs": [],
   "source": []
  }
 ],
 "metadata": {
  "kernelspec": {
   "display_name": "Python 3 (ipykernel)",
   "language": "python",
   "name": "python3"
  },
  "language_info": {
   "codemirror_mode": {
    "name": "ipython",
    "version": 3
   },
   "file_extension": ".py",
   "mimetype": "text/x-python",
   "name": "python",
   "nbconvert_exporter": "python",
   "pygments_lexer": "ipython3",
   "version": "3.9.5"
  }
 },
 "nbformat": 4,
 "nbformat_minor": 5
}
