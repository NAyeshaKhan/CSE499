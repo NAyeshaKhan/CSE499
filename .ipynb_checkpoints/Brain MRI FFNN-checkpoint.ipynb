{
 "cells": [
  {
   "cell_type": "code",
   "execution_count": 39,
   "id": "8155dbd0",
   "metadata": {},
   "outputs": [
    {
     "name": "stdout",
     "output_type": "stream",
     "text": [
      "(1112, 13)\n"
     ]
    },
    {
     "data": {
      "text/html": [
       "<div>\n",
       "<style scoped>\n",
       "    .dataframe tbody tr th:only-of-type {\n",
       "        vertical-align: middle;\n",
       "    }\n",
       "\n",
       "    .dataframe tbody tr th {\n",
       "        vertical-align: top;\n",
       "    }\n",
       "\n",
       "    .dataframe thead th {\n",
       "        text-align: right;\n",
       "    }\n",
       "</style>\n",
       "<table border=\"1\" class=\"dataframe\">\n",
       "  <thead>\n",
       "    <tr style=\"text-align: right;\">\n",
       "      <th></th>\n",
       "      <th>Unnamed: 0</th>\n",
       "      <th>SUB_ID</th>\n",
       "      <th>X</th>\n",
       "      <th>subject</th>\n",
       "      <th>SITE_ID</th>\n",
       "      <th>FILE_ID</th>\n",
       "      <th>DX_GROUP</th>\n",
       "      <th>anat_cnr</th>\n",
       "      <th>anat_efc</th>\n",
       "      <th>anat_fber</th>\n",
       "      <th>anat_fwhm</th>\n",
       "      <th>anat_qi1</th>\n",
       "      <th>anat_snr</th>\n",
       "    </tr>\n",
       "  </thead>\n",
       "  <tbody>\n",
       "    <tr>\n",
       "      <th>0</th>\n",
       "      <td>1</td>\n",
       "      <td>50002</td>\n",
       "      <td>1</td>\n",
       "      <td>50002</td>\n",
       "      <td>PITT</td>\n",
       "      <td>no_filename</td>\n",
       "      <td>1</td>\n",
       "      <td>10.201539</td>\n",
       "      <td>1.194664</td>\n",
       "      <td>16.223458</td>\n",
       "      <td>3.878000</td>\n",
       "      <td>0.152711</td>\n",
       "      <td>12.072452</td>\n",
       "    </tr>\n",
       "    <tr>\n",
       "      <th>1</th>\n",
       "      <td>2</td>\n",
       "      <td>50003</td>\n",
       "      <td>2</td>\n",
       "      <td>50003</td>\n",
       "      <td>PITT</td>\n",
       "      <td>Pitt_0050003</td>\n",
       "      <td>1</td>\n",
       "      <td>7.165701</td>\n",
       "      <td>1.126752</td>\n",
       "      <td>10.460008</td>\n",
       "      <td>4.282238</td>\n",
       "      <td>0.161716</td>\n",
       "      <td>9.241155</td>\n",
       "    </tr>\n",
       "    <tr>\n",
       "      <th>2</th>\n",
       "      <td>3</td>\n",
       "      <td>50004</td>\n",
       "      <td>3</td>\n",
       "      <td>50004</td>\n",
       "      <td>PITT</td>\n",
       "      <td>Pitt_0050004</td>\n",
       "      <td>1</td>\n",
       "      <td>7.698144</td>\n",
       "      <td>1.226218</td>\n",
       "      <td>9.725750</td>\n",
       "      <td>3.881684</td>\n",
       "      <td>0.174186</td>\n",
       "      <td>9.323463</td>\n",
       "    </tr>\n",
       "    <tr>\n",
       "      <th>3</th>\n",
       "      <td>4</td>\n",
       "      <td>50005</td>\n",
       "      <td>4</td>\n",
       "      <td>50005</td>\n",
       "      <td>PITT</td>\n",
       "      <td>Pitt_0050005</td>\n",
       "      <td>1</td>\n",
       "      <td>9.071807</td>\n",
       "      <td>1.256278</td>\n",
       "      <td>11.198226</td>\n",
       "      <td>3.628667</td>\n",
       "      <td>0.119269</td>\n",
       "      <td>10.814200</td>\n",
       "    </tr>\n",
       "    <tr>\n",
       "      <th>4</th>\n",
       "      <td>5</td>\n",
       "      <td>50006</td>\n",
       "      <td>5</td>\n",
       "      <td>50006</td>\n",
       "      <td>PITT</td>\n",
       "      <td>Pitt_0050006</td>\n",
       "      <td>1</td>\n",
       "      <td>8.026798</td>\n",
       "      <td>1.407166</td>\n",
       "      <td>6.282055</td>\n",
       "      <td>3.674539</td>\n",
       "      <td>0.130647</td>\n",
       "      <td>10.123574</td>\n",
       "    </tr>\n",
       "  </tbody>\n",
       "</table>\n",
       "</div>"
      ],
      "text/plain": [
       "   Unnamed: 0  SUB_ID  X  subject SITE_ID       FILE_ID  DX_GROUP   anat_cnr  \\\n",
       "0           1   50002  1    50002    PITT   no_filename         1  10.201539   \n",
       "1           2   50003  2    50003    PITT  Pitt_0050003         1   7.165701   \n",
       "2           3   50004  3    50004    PITT  Pitt_0050004         1   7.698144   \n",
       "3           4   50005  4    50005    PITT  Pitt_0050005         1   9.071807   \n",
       "4           5   50006  5    50006    PITT  Pitt_0050006         1   8.026798   \n",
       "\n",
       "   anat_efc  anat_fber  anat_fwhm  anat_qi1   anat_snr  \n",
       "0  1.194664  16.223458   3.878000  0.152711  12.072452  \n",
       "1  1.126752  10.460008   4.282238  0.161716   9.241155  \n",
       "2  1.226218   9.725750   3.881684  0.174186   9.323463  \n",
       "3  1.256278  11.198226   3.628667  0.119269  10.814200  \n",
       "4  1.407166   6.282055   3.674539  0.130647  10.123574  "
      ]
     },
     "execution_count": 39,
     "metadata": {},
     "output_type": "execute_result"
    }
   ],
   "source": [
    "import numpy as np\n",
    "import pandas as pd\n",
    "import seaborn as sns\n",
    "import matplotlib.pyplot as plt\n",
    "\n",
    "import torch\n",
    "import torch.nn as nn\n",
    "import torch.optim as optim\n",
    "from torch.utils.data import Dataset, DataLoader\n",
    "\n",
    "from sklearn.preprocessing import StandardScaler    \n",
    "from sklearn.model_selection import train_test_split\n",
    "from sklearn.metrics import confusion_matrix, classification_report\n",
    "\n",
    "df = pd.read_csv('Phenotypic_V1_0b_preprocessed1.csv')\n",
    "print(df.shape)\n",
    "df.head(5)"
   ]
  },
  {
   "cell_type": "code",
   "execution_count": 40,
   "id": "f304312b",
   "metadata": {},
   "outputs": [
    {
     "name": "stdout",
     "output_type": "stream",
     "text": [
      "\n",
      "Training data samples:\n",
      "(583, 2016)\n"
     ]
    }
   ],
   "source": [
    "X = np.load(\"features.npz\")['a']\n",
    "y = np.load(\"labels.npz\")['a']\n",
    "y = np.select([y == 1, y == 2], [0, 1], y)\n",
    "\n",
    "X_train, X_test, y_train, y_test = train_test_split(X, y, test_size=0.33, random_state=69)\n",
    "\n",
    "print(\"\\nTraining data samples:\")\n",
    "print(X_train.shape)"
   ]
  },
  {
   "cell_type": "code",
   "execution_count": 41,
   "id": "6091d182",
   "metadata": {
    "scrolled": true
   },
   "outputs": [
    {
     "name": "stdout",
     "output_type": "stream",
     "text": [
      "tensor([0., 1., 1., 0., 0., 1., 1., 1., 1., 0., 1., 1., 0., 0., 0., 1., 0., 0.,\n",
      "        0., 0., 1., 0., 0., 1., 0., 1., 0., 1., 0., 1., 1., 1., 1., 1., 1., 1.,\n",
      "        0., 1., 0., 0., 0., 0., 0., 0., 1., 0., 1., 0., 1., 0., 1., 0., 1., 0.,\n",
      "        1., 0., 1., 0., 1., 0., 0., 1., 1., 1., 0., 0., 0., 0., 1., 0., 1., 1.,\n",
      "        0., 1., 1., 0., 0., 1., 0., 1., 1., 0., 0., 0., 0., 1., 1., 1., 0., 0.,\n",
      "        1., 1., 1., 1., 0., 1., 0., 0., 0., 1., 0., 0., 0., 1., 1., 1., 0., 1.,\n",
      "        0., 0., 0., 0., 1., 1., 1., 1., 1., 0., 0., 0., 0., 1., 0., 0., 0., 0.,\n",
      "        1., 1., 0., 1., 0., 0., 1., 0., 1., 0., 1., 0., 1., 1., 1., 1., 0., 1.,\n",
      "        1., 1., 0., 1., 1., 0., 1., 0., 0., 0., 0., 1., 1., 0., 1., 1., 1., 0.,\n",
      "        1., 0., 1., 0., 0., 0., 0., 0., 0., 1., 0., 1., 0., 1., 0., 1., 1., 1.,\n",
      "        1., 0., 0., 1., 0., 0., 1., 0., 1., 0., 0., 1., 0., 0., 0., 1., 0., 0.,\n",
      "        1., 0., 1., 0., 1., 0., 1., 1., 0., 0., 1., 0., 0., 1., 0., 1., 0., 1.,\n",
      "        1., 1., 0., 0., 0., 0., 0., 0., 1., 1., 0., 0., 0., 0., 1., 0., 1., 1.,\n",
      "        0., 1., 1., 0., 0., 0., 1., 1., 1., 1., 1., 0., 0., 1., 1., 1., 1., 0.,\n",
      "        1., 0., 1., 1., 1., 1., 0., 0., 0., 0., 1., 1., 1., 0., 1., 1., 1., 0.,\n",
      "        0., 1., 0., 1., 1., 1., 1., 1., 0., 1., 1., 1., 0., 0., 0., 1., 1., 1.,\n",
      "        0., 0., 1., 0., 0., 0., 1., 1., 0., 1., 0., 0., 1., 1., 0., 1., 1., 0.,\n",
      "        1., 1., 0., 1., 0., 0., 0., 0., 0., 0., 0., 1., 1., 0., 0., 1., 1., 1.,\n",
      "        0., 1., 1., 0., 1., 0., 0., 0., 1., 0., 1., 0., 1., 1., 1., 1., 1., 1.,\n",
      "        1., 1., 0., 1., 1., 0., 1., 0., 1., 0., 1., 1., 1., 0., 1., 1., 0., 1.,\n",
      "        0., 0., 0., 1., 0., 1., 0., 0., 0., 1., 0., 0., 1., 1., 1., 0., 1., 1.,\n",
      "        1., 0., 1., 1., 0., 0., 1., 0., 0., 0., 1., 1., 1., 0., 1., 1., 0., 1.,\n",
      "        1., 1., 1., 1., 0., 0., 1., 1., 1., 1., 1., 0., 1., 0., 0., 1., 1., 1.,\n",
      "        0., 1., 0., 1., 1., 0., 1., 1., 1., 0., 1., 0., 1., 0., 1., 0., 1., 1.,\n",
      "        1., 1., 0., 1., 1., 1., 0., 1., 0., 0., 1., 1., 0., 1., 1., 0., 0., 1.,\n",
      "        1., 0., 1., 0., 0., 1., 0., 0., 0., 0., 1., 1., 0., 0., 1., 1., 1., 1.,\n",
      "        0., 0., 1., 1., 1., 1., 0., 1., 0., 0., 0., 1., 1., 1., 1., 1., 1., 1.,\n",
      "        1., 0., 1., 1., 0., 0., 1., 0., 1., 0., 1., 1., 0., 1., 1., 1., 0., 1.,\n",
      "        1., 0., 0., 0., 1., 1., 0., 1., 0., 0., 0., 1., 1., 0., 1., 1., 0., 0.,\n",
      "        1., 1., 1., 1., 1., 0., 0., 1., 0., 0., 1., 1., 1., 0., 1., 1., 1., 0.,\n",
      "        1., 1., 1., 1., 1., 0., 0., 0., 0., 0., 1., 1., 0., 0., 1., 1., 1., 1.,\n",
      "        0., 0., 0., 0., 0., 0., 1., 1., 1., 0., 0., 0., 1., 1., 1., 0., 0., 1.,\n",
      "        0., 1., 1., 1., 1., 1., 1.])\n",
      "[[ 1.21088819  2.04006818  1.41930824 ...  1.10931878  1.56545776\n",
      "   1.47208363]\n",
      " [ 0.44697634  1.24361063  0.96518331 ...  0.81550805  0.47295037\n",
      "   1.39764759]\n",
      " [-1.06991696 -0.95606267 -0.20732373 ... -2.67919839 -0.42278902\n",
      "  -1.81686175]\n",
      " ...\n",
      " [ 1.19391984  1.61272229  1.38968103 ... -1.4455497   0.27341054\n",
      "  -0.1307982 ]\n",
      " [-0.03878601  1.17716578 -0.80528464 ... -0.95932201 -0.9795447\n",
      "  -0.8050224 ]\n",
      " [ 0.88550381  0.93902838 -0.64995551 ...  0.80399731  1.46718011\n",
      "   1.6549649 ]]\n"
     ]
    }
   ],
   "source": [
    "EPOCHS = 50\n",
    "BATCH_SIZE = 64\n",
    "LEARNING_RATE = 0.001\n",
    "\n",
    "scaler = StandardScaler()\n",
    "X_train = scaler.fit_transform(X_train)\n",
    "X_test = scaler.transform(X_test)\n",
    "\n",
    "#y_train =  torch.from_numpy(y_train.ravel()).float()\n",
    "y_train = torch.Tensor(y_train)\n",
    "y_test = torch.Tensor(y_test)\n",
    "\n",
    "print(y_train)\n",
    "print(X_test)"
   ]
  },
  {
   "cell_type": "code",
   "execution_count": 42,
   "id": "01ed3b5b",
   "metadata": {},
   "outputs": [],
   "source": [
    "#Function to train data\n",
    "class TrainData(Dataset):\n",
    "    def __init__(self, X_data, y_data):\n",
    "        self.X_data = X_data\n",
    "        self.y_data = y_data\n",
    "        \n",
    "    def __getitem__(self, index):\n",
    "        return self.X_data[index], self.y_data[index]\n",
    "        \n",
    "    def __len__ (self):\n",
    "        return len(self.X_data)\n",
    "\n",
    "#Calling dataset class to train on X and y tensors\n",
    "train_data = TrainData(torch.FloatTensor(X_train), \n",
    "                       torch.FloatTensor(y_train))\n",
    "#Function to test data\n",
    "class TestData(Dataset):\n",
    "    \n",
    "    def __init__(self, X_data):\n",
    "        self.X_data = X_data\n",
    "        \n",
    "    def __getitem__(self, index):\n",
    "        return self.X_data[index]\n",
    "        \n",
    "    def __len__ (self):\n",
    "        return len(self.X_data)\n",
    "    \n",
    "#Calling dataset class to test on X tensor\n",
    "test_data = TestData(torch.FloatTensor(X_test))"
   ]
  },
  {
   "cell_type": "code",
   "execution_count": 43,
   "id": "3c7900fa",
   "metadata": {},
   "outputs": [],
   "source": [
    "train_loader = DataLoader(dataset=train_data, batch_size=BATCH_SIZE, shuffle=True)\n",
    "test_loader = DataLoader(dataset=test_data, batch_size=1)"
   ]
  },
  {
   "cell_type": "code",
   "execution_count": 44,
   "id": "58cdf10c",
   "metadata": {},
   "outputs": [],
   "source": [
    "class BinaryClassification(nn.Module):\n",
    "    def __init__(self):\n",
    "        super(BinaryClassification, self).__init__()\n",
    "        self.layer_1 = nn.Linear(2016, 256) \n",
    "        self.layer_2 = nn.Linear(256, 50)\n",
    "        self.layer_out = nn.Linear(50, 1) \n",
    "        \n",
    "        self.relu = nn.ReLU()\n",
    "        self.dropout = nn.Dropout(p=0.1)\n",
    "        self.batchnorm1 = nn.BatchNorm1d(256)\n",
    "        self.batchnorm2 = nn.BatchNorm1d(50)\n",
    "        \n",
    "    def forward(self, inputs):\n",
    "        x = self.relu(self.layer_1(inputs))\n",
    "        x = self.batchnorm1(x)\n",
    "        x = self.relu(self.layer_2(x))\n",
    "        x = self.batchnorm2(x)\n",
    "        x = self.dropout(x)\n",
    "        x = self.layer_out(x)\n",
    "        \n",
    "        return x"
   ]
  },
  {
   "cell_type": "code",
   "execution_count": 45,
   "id": "d14974f5",
   "metadata": {},
   "outputs": [
    {
     "name": "stdout",
     "output_type": "stream",
     "text": [
      "cpu\n",
      "BinaryClassification(\n",
      "  (layer_1): Linear(in_features=2016, out_features=256, bias=True)\n",
      "  (layer_2): Linear(in_features=256, out_features=50, bias=True)\n",
      "  (layer_out): Linear(in_features=50, out_features=1, bias=True)\n",
      "  (relu): ReLU()\n",
      "  (dropout): Dropout(p=0.1, inplace=False)\n",
      "  (batchnorm1): BatchNorm1d(256, eps=1e-05, momentum=0.1, affine=True, track_running_stats=True)\n",
      "  (batchnorm2): BatchNorm1d(50, eps=1e-05, momentum=0.1, affine=True, track_running_stats=True)\n",
      ")\n"
     ]
    }
   ],
   "source": [
    "device = torch.device(\"cuda:0\" if torch.cuda.is_available() else \"cpu\")\n",
    "print(device)\n",
    "\n",
    "model = BinaryClassification()\n",
    "model.to(device)\n",
    "print(model)\n",
    "criterion = nn.BCEWithLogitsLoss()\n",
    "optimizer = optim.Adam(model.parameters(), lr=LEARNING_RATE)\n"
   ]
  },
  {
   "cell_type": "code",
   "execution_count": 46,
   "id": "7826ab91",
   "metadata": {},
   "outputs": [],
   "source": [
    "def binary_acc(y_pred, y_test):\n",
    "    y_pred_tag = torch.round(torch.sigmoid(y_pred))\n",
    "\n",
    "    correct_results_sum = (y_pred_tag == y_test).sum().float()\n",
    "    acc = correct_results_sum/y_test.shape[0]\n",
    "    acc = torch.round(acc * 100)\n",
    "    \n",
    "    return acc"
   ]
  },
  {
   "cell_type": "code",
   "execution_count": 47,
   "id": "ff9cf586",
   "metadata": {},
   "outputs": [
    {
     "name": "stdout",
     "output_type": "stream",
     "text": [
      "Epoch 001: | Train Loss: 0.66574 | Acc: 61.800\n",
      "Epoch 002: | Train Loss: 0.49658 | Acc: 79.500\n",
      "Epoch 003: | Train Loss: 0.42662 | Acc: 79.000\n",
      "Epoch 004: | Train Loss: 0.32190 | Acc: 89.800\n",
      "Epoch 005: | Train Loss: 0.29478 | Acc: 91.100\n",
      "Epoch 006: | Train Loss: 0.28276 | Acc: 89.500\n",
      "Epoch 007: | Train Loss: 0.19281 | Acc: 95.800\n",
      "Epoch 008: | Train Loss: 0.17071 | Acc: 95.500\n",
      "Epoch 009: | Train Loss: 0.13410 | Acc: 97.400\n",
      "Epoch 010: | Train Loss: 0.10302 | Acc: 98.500\n",
      "Epoch 011: | Train Loss: 0.08981 | Acc: 98.200\n",
      "Epoch 012: | Train Loss: 0.12120 | Acc: 96.700\n",
      "Epoch 013: | Train Loss: 0.11483 | Acc: 97.000\n",
      "Epoch 014: | Train Loss: 0.11347 | Acc: 97.600\n",
      "Epoch 015: | Train Loss: 0.12307 | Acc: 95.900\n",
      "Epoch 016: | Train Loss: 0.14752 | Acc: 96.800\n",
      "Epoch 017: | Train Loss: 0.08547 | Acc: 98.000\n",
      "Epoch 018: | Train Loss: 0.07372 | Acc: 97.600\n",
      "Epoch 019: | Train Loss: 0.09023 | Acc: 97.800\n",
      "Epoch 020: | Train Loss: 0.07882 | Acc: 97.800\n",
      "Epoch 021: | Train Loss: 0.14000 | Acc: 94.600\n",
      "Epoch 022: | Train Loss: 0.13548 | Acc: 95.000\n",
      "Epoch 023: | Train Loss: 0.10247 | Acc: 98.000\n",
      "Epoch 024: | Train Loss: 0.14603 | Acc: 96.200\n",
      "Epoch 025: | Train Loss: 0.06732 | Acc: 97.500\n",
      "Epoch 026: | Train Loss: 0.07494 | Acc: 97.900\n",
      "Epoch 027: | Train Loss: 0.16584 | Acc: 94.600\n",
      "Epoch 028: | Train Loss: 0.12402 | Acc: 97.300\n",
      "Epoch 029: | Train Loss: 0.19657 | Acc: 93.600\n",
      "Epoch 030: | Train Loss: 0.17731 | Acc: 92.600\n",
      "Epoch 031: | Train Loss: 0.11581 | Acc: 97.000\n",
      "Epoch 032: | Train Loss: 0.14980 | Acc: 95.700\n",
      "Epoch 033: | Train Loss: 0.07968 | Acc: 97.400\n",
      "Epoch 034: | Train Loss: 0.08998 | Acc: 97.000\n",
      "Epoch 035: | Train Loss: 0.06618 | Acc: 98.500\n",
      "Epoch 036: | Train Loss: 0.04671 | Acc: 99.200\n",
      "Epoch 037: | Train Loss: 0.08463 | Acc: 97.100\n",
      "Epoch 038: | Train Loss: 0.11077 | Acc: 96.800\n",
      "Epoch 039: | Train Loss: 0.09379 | Acc: 96.800\n",
      "Epoch 040: | Train Loss: 0.06041 | Acc: 99.400\n",
      "Epoch 041: | Train Loss: 0.07004 | Acc: 97.200\n",
      "Epoch 042: | Train Loss: 0.04448 | Acc: 98.700\n",
      "Epoch 043: | Train Loss: 0.04274 | Acc: 98.900\n",
      "Epoch 044: | Train Loss: 0.09844 | Acc: 96.700\n",
      "Epoch 045: | Train Loss: 0.08403 | Acc: 96.800\n",
      "Epoch 046: | Train Loss: 0.08811 | Acc: 97.200\n",
      "Epoch 047: | Train Loss: 0.05310 | Acc: 97.900\n",
      "Epoch 048: | Train Loss: 0.04179 | Acc: 99.600\n",
      "Epoch 049: | Train Loss: 0.05534 | Acc: 97.600\n",
      "Epoch 050: | Train Loss: 0.05839 | Acc: 98.000\n"
     ]
    }
   ],
   "source": [
    "model.train()\n",
    "train_loss, valid_loss = [], []\n",
    "for e in range(1, EPOCHS+1):\n",
    "    epoch_loss = 0\n",
    "    epoch_acc = 0\n",
    "    for X_batch, y_batch in train_loader:\n",
    "        X_batch, y_batch = X_batch.to(device), y_batch.to(device)\n",
    "        optimizer.zero_grad()\n",
    "        \n",
    "        y_pred = model(X_batch)\n",
    "        \n",
    "        loss = criterion(y_pred, y_batch.unsqueeze(1))\n",
    "        acc = binary_acc(y_pred, y_batch.unsqueeze(1))\n",
    "        \n",
    "        loss.backward()\n",
    "        optimizer.step()\n",
    "        train_loss.append(loss.item())\n",
    "        epoch_loss += loss.item()\n",
    "        epoch_acc += acc.item()\n",
    "        \n",
    "\n",
    "    print(f'Epoch {e+0:03}: | Train Loss: {epoch_loss/len(train_loader):.5f} | Acc: {epoch_acc/len(train_loader):.3f}')"
   ]
  },
  {
   "cell_type": "code",
   "execution_count": 48,
   "id": "0c2810fd",
   "metadata": {},
   "outputs": [],
   "source": [
    "y_pred_list = []\n",
    "model.eval()\n",
    "with torch.no_grad():\n",
    "    for X_batch in test_loader:\n",
    "        X_batch = X_batch.to(device)\n",
    "        y_test_pred = model(X_batch)\n",
    "        y_test_pred = torch.sigmoid(y_test_pred)\n",
    "        y_pred_tag = torch.round(y_test_pred)\n",
    "        y_pred_list.append(y_pred_tag.cpu().numpy())\n",
    "        \n",
    "    y_pred_list = [a.squeeze().tolist() for a in y_pred_list]\n",
    "#print(y_pred_list)    "
   ]
  },
  {
   "cell_type": "code",
   "execution_count": 49,
   "id": "85a7cd5f",
   "metadata": {},
   "outputs": [
    {
     "name": "stdout",
     "output_type": "stream",
     "text": [
      "Epoch 001: | Valid Loss: 0.02447 | Acc: 99.200\n",
      "Epoch 002: | Valid Loss: 0.01496 | Acc: 99.800\n",
      "Epoch 003: | Valid Loss: 0.00852 | Acc: 100.000\n",
      "Epoch 004: | Valid Loss: 0.00768 | Acc: 100.000\n",
      "Epoch 005: | Valid Loss: 0.00485 | Acc: 100.000\n",
      "Epoch 006: | Valid Loss: 0.00373 | Acc: 100.000\n",
      "Epoch 007: | Valid Loss: 0.00271 | Acc: 100.000\n",
      "Epoch 008: | Valid Loss: 0.00249 | Acc: 100.000\n",
      "Epoch 009: | Valid Loss: 0.00221 | Acc: 100.000\n",
      "Epoch 010: | Valid Loss: 0.00205 | Acc: 100.000\n",
      "Epoch 011: | Valid Loss: 0.00195 | Acc: 100.000\n",
      "Epoch 012: | Valid Loss: 0.00168 | Acc: 100.000\n",
      "Epoch 013: | Valid Loss: 0.00155 | Acc: 100.000\n",
      "Epoch 014: | Valid Loss: 0.00152 | Acc: 100.000\n",
      "Epoch 015: | Valid Loss: 0.00138 | Acc: 100.000\n",
      "Epoch 016: | Valid Loss: 0.00132 | Acc: 100.000\n",
      "Epoch 017: | Valid Loss: 0.00124 | Acc: 100.000\n",
      "Epoch 018: | Valid Loss: 0.00125 | Acc: 100.000\n",
      "Epoch 019: | Valid Loss: 0.00114 | Acc: 100.000\n",
      "Epoch 020: | Valid Loss: 0.00108 | Acc: 100.000\n",
      "Epoch 021: | Valid Loss: 0.00097 | Acc: 100.000\n",
      "Epoch 022: | Valid Loss: 0.00101 | Acc: 100.000\n",
      "Epoch 023: | Valid Loss: 0.00092 | Acc: 100.000\n",
      "Epoch 024: | Valid Loss: 0.00097 | Acc: 100.000\n",
      "Epoch 025: | Valid Loss: 0.00080 | Acc: 100.000\n",
      "Epoch 026: | Valid Loss: 0.00079 | Acc: 100.000\n",
      "Epoch 027: | Valid Loss: 0.00076 | Acc: 100.000\n",
      "Epoch 028: | Valid Loss: 0.00074 | Acc: 100.000\n",
      "Epoch 029: | Valid Loss: 0.00072 | Acc: 100.000\n",
      "Epoch 030: | Valid Loss: 0.00067 | Acc: 100.000\n",
      "Epoch 031: | Valid Loss: 0.00065 | Acc: 100.000\n",
      "Epoch 032: | Valid Loss: 0.00063 | Acc: 100.000\n",
      "Epoch 033: | Valid Loss: 0.00062 | Acc: 100.000\n",
      "Epoch 034: | Valid Loss: 0.00057 | Acc: 100.000\n",
      "Epoch 035: | Valid Loss: 0.00056 | Acc: 100.000\n",
      "Epoch 036: | Valid Loss: 0.00054 | Acc: 100.000\n",
      "Epoch 037: | Valid Loss: 0.00053 | Acc: 100.000\n",
      "Epoch 038: | Valid Loss: 0.00053 | Acc: 100.000\n",
      "Epoch 039: | Valid Loss: 0.00050 | Acc: 100.000\n",
      "Epoch 040: | Valid Loss: 0.00049 | Acc: 100.000\n",
      "Epoch 041: | Valid Loss: 0.00048 | Acc: 100.000\n",
      "Epoch 042: | Valid Loss: 0.00049 | Acc: 100.000\n",
      "Epoch 043: | Valid Loss: 0.00043 | Acc: 100.000\n",
      "Epoch 044: | Valid Loss: 0.00045 | Acc: 100.000\n",
      "Epoch 045: | Valid Loss: 0.00040 | Acc: 100.000\n",
      "Epoch 046: | Valid Loss: 0.00041 | Acc: 100.000\n",
      "Epoch 047: | Valid Loss: 0.00040 | Acc: 100.000\n",
      "Epoch 048: | Valid Loss: 0.00041 | Acc: 100.000\n",
      "Epoch 049: | Valid Loss: 0.00037 | Acc: 100.000\n",
      "Epoch 050: | Valid Loss: 0.00038 | Acc: 100.000\n"
     ]
    }
   ],
   "source": [
    "model.eval()\n",
    "for e in range(1, EPOCHS+1):\n",
    "    epoch_loss = 0\n",
    "    epoch_acc = 0\n",
    "    for X_batch, y_batch in train_loader:\n",
    "        X_batch, y_batch = X_batch.to(device), y_batch.to(device)\n",
    "        optimizer.zero_grad()\n",
    "        \n",
    "        y_pred = model(X_batch)\n",
    "        \n",
    "        loss = criterion(y_pred, y_batch.unsqueeze(1))\n",
    "        acc = binary_acc(y_pred, y_batch.unsqueeze(1))\n",
    "        \n",
    "        loss.backward()\n",
    "        optimizer.step()\n",
    "        valid_loss.append(loss.item())\n",
    "        \n",
    "        epoch_loss += loss.item()\n",
    "        epoch_acc += acc.item()\n",
    "        \n",
    "\n",
    "    print(f'Epoch {e+0:03}: | Valid Loss: {epoch_loss/len(train_loader):.5f} | Acc: {epoch_acc/len(train_loader):.3f}')\n",
    "        "
   ]
  },
  {
   "cell_type": "code",
   "execution_count": 50,
   "id": "ae536a22",
   "metadata": {},
   "outputs": [
    {
     "data": {
      "text/plain": [
       "[<matplotlib.lines.Line2D at 0x1f35e5ac3a0>]"
      ]
     },
     "execution_count": 50,
     "metadata": {},
     "output_type": "execute_result"
    },
    {
     "data": {
      "image/png": "[encoded data removed]",
      "text/plain": [
       "<Figure size 432x288 with 1 Axes>"
      ]
     },
     "metadata": {
      "needs_background": "light"
     },
     "output_type": "display_data"
    }
   ],
   "source": [
    "plt.plot(train_loss)"
   ]
  },
  {
   "cell_type": "code",
   "execution_count": 51,
   "id": "add8c4ec",
   "metadata": {},
   "outputs": [
    {
     "data": {
      "text/plain": [
       "[<matplotlib.lines.Line2D at 0x1f35e60b850>]"
      ]
     },
     "execution_count": 51,
     "metadata": {},
     "output_type": "execute_result"
    },
    {
     "data": {
      "image/png": "[encoded data removed]",
      "text/plain": [
       "<Figure size 432x288 with 1 Axes>"
      ]
     },
     "metadata": {
      "needs_background": "light"
     },
     "output_type": "display_data"
    }
   ],
   "source": [
    "plt.plot(valid_loss)"
   ]
  },
  {
   "cell_type": "code",
   "execution_count": 52,
   "id": "98d0de25",
   "metadata": {},
   "outputs": [
    {
     "name": "stdout",
     "output_type": "stream",
     "text": [
      "              precision    recall  f1-score   support\n",
      "\n",
      "         0.0       0.60      0.61      0.61       132\n",
      "         1.0       0.67      0.65      0.66       156\n",
      "\n",
      "    accuracy                           0.64       288\n",
      "   macro avg       0.63      0.63      0.63       288\n",
      "weighted avg       0.64      0.64      0.64       288\n",
      "\n"
     ]
    }
   ],
   "source": [
    "print(classification_report(y_test, y_pred_list))"
   ]
  }
 ],
 "metadata": {
  "kernelspec": {
   "display_name": "Python 3 (ipykernel)",
   "language": "python",
   "name": "python3"
  },
  "language_info": {
   "codemirror_mode": {
    "name": "ipython",
    "version": 3
   },
   "file_extension": ".py",
   "mimetype": "text/x-python",
   "name": "python",
   "nbconvert_exporter": "python",
   "pygments_lexer": "ipython3",
   "version": "3.9.5"
  }
 },
 "nbformat": 4,
 "nbformat_minor": 5
}
