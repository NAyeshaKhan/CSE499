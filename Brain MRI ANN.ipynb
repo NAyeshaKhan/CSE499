{
 "cells": [
  {
   "cell_type": "code",
   "execution_count": 1,
   "id": "a3a4f47b",
   "metadata": {},
   "outputs": [
    {
     "data": {
      "text/html": [
       "<div>\n",
       "<style scoped>\n",
       "    .dataframe tbody tr th:only-of-type {\n",
       "        vertical-align: middle;\n",
       "    }\n",
       "\n",
       "    .dataframe tbody tr th {\n",
       "        vertical-align: top;\n",
       "    }\n",
       "\n",
       "    .dataframe thead th {\n",
       "        text-align: right;\n",
       "    }\n",
       "</style>\n",
       "<table border=\"1\" class=\"dataframe\">\n",
       "  <thead>\n",
       "    <tr style=\"text-align: right;\">\n",
       "      <th></th>\n",
       "      <th>Unnamed: 0.1</th>\n",
       "      <th>Unnamed: 0</th>\n",
       "      <th>SUB_ID</th>\n",
       "      <th>X</th>\n",
       "      <th>subject</th>\n",
       "      <th>SITE_ID</th>\n",
       "      <th>FILE_ID</th>\n",
       "      <th>DX_GROUP</th>\n",
       "      <th>anat_cnr</th>\n",
       "      <th>anat_efc</th>\n",
       "      <th>anat_fber</th>\n",
       "      <th>anat_fwhm</th>\n",
       "      <th>anat_qi1</th>\n",
       "      <th>anat_snr</th>\n",
       "    </tr>\n",
       "  </thead>\n",
       "  <tbody>\n",
       "    <tr>\n",
       "      <th>0</th>\n",
       "      <td>0</td>\n",
       "      <td>1</td>\n",
       "      <td>50002</td>\n",
       "      <td>1</td>\n",
       "      <td>50002</td>\n",
       "      <td>PITT</td>\n",
       "      <td>no_filename</td>\n",
       "      <td>1</td>\n",
       "      <td>10.201539</td>\n",
       "      <td>1.194664</td>\n",
       "      <td>16.223458</td>\n",
       "      <td>3.878000</td>\n",
       "      <td>0.152711</td>\n",
       "      <td>12.072452</td>\n",
       "    </tr>\n",
       "    <tr>\n",
       "      <th>1</th>\n",
       "      <td>1</td>\n",
       "      <td>2</td>\n",
       "      <td>50003</td>\n",
       "      <td>2</td>\n",
       "      <td>50003</td>\n",
       "      <td>PITT</td>\n",
       "      <td>Pitt_0050003</td>\n",
       "      <td>1</td>\n",
       "      <td>7.165701</td>\n",
       "      <td>1.126752</td>\n",
       "      <td>10.460008</td>\n",
       "      <td>4.282238</td>\n",
       "      <td>0.161716</td>\n",
       "      <td>9.241155</td>\n",
       "    </tr>\n",
       "    <tr>\n",
       "      <th>2</th>\n",
       "      <td>2</td>\n",
       "      <td>3</td>\n",
       "      <td>50004</td>\n",
       "      <td>3</td>\n",
       "      <td>50004</td>\n",
       "      <td>PITT</td>\n",
       "      <td>Pitt_0050004</td>\n",
       "      <td>1</td>\n",
       "      <td>7.698144</td>\n",
       "      <td>1.226218</td>\n",
       "      <td>9.725750</td>\n",
       "      <td>3.881684</td>\n",
       "      <td>0.174186</td>\n",
       "      <td>9.323463</td>\n",
       "    </tr>\n",
       "    <tr>\n",
       "      <th>3</th>\n",
       "      <td>3</td>\n",
       "      <td>4</td>\n",
       "      <td>50005</td>\n",
       "      <td>4</td>\n",
       "      <td>50005</td>\n",
       "      <td>PITT</td>\n",
       "      <td>Pitt_0050005</td>\n",
       "      <td>1</td>\n",
       "      <td>9.071807</td>\n",
       "      <td>1.256278</td>\n",
       "      <td>11.198226</td>\n",
       "      <td>3.628667</td>\n",
       "      <td>0.119269</td>\n",
       "      <td>10.814200</td>\n",
       "    </tr>\n",
       "    <tr>\n",
       "      <th>4</th>\n",
       "      <td>4</td>\n",
       "      <td>5</td>\n",
       "      <td>50006</td>\n",
       "      <td>5</td>\n",
       "      <td>50006</td>\n",
       "      <td>PITT</td>\n",
       "      <td>Pitt_0050006</td>\n",
       "      <td>1</td>\n",
       "      <td>8.026798</td>\n",
       "      <td>1.407166</td>\n",
       "      <td>6.282055</td>\n",
       "      <td>3.674539</td>\n",
       "      <td>0.130647</td>\n",
       "      <td>10.123574</td>\n",
       "    </tr>\n",
       "  </tbody>\n",
       "</table>\n",
       "</div>"
      ],
      "text/plain": [
       "   Unnamed: 0.1  Unnamed: 0  SUB_ID  X  subject SITE_ID       FILE_ID  \\\n",
       "0             0           1   50002  1    50002    PITT   no_filename   \n",
       "1             1           2   50003  2    50003    PITT  Pitt_0050003   \n",
       "2             2           3   50004  3    50004    PITT  Pitt_0050004   \n",
       "3             3           4   50005  4    50005    PITT  Pitt_0050005   \n",
       "4             4           5   50006  5    50006    PITT  Pitt_0050006   \n",
       "\n",
       "   DX_GROUP   anat_cnr  anat_efc  anat_fber  anat_fwhm  anat_qi1   anat_snr  \n",
       "0         1  10.201539  1.194664  16.223458   3.878000  0.152711  12.072452  \n",
       "1         1   7.165701  1.126752  10.460008   4.282238  0.161716   9.241155  \n",
       "2         1   7.698144  1.226218   9.725750   3.881684  0.174186   9.323463  \n",
       "3         1   9.071807  1.256278  11.198226   3.628667  0.119269  10.814200  \n",
       "4         1   8.026798  1.407166   6.282055   3.674539  0.130647  10.123574  "
      ]
     },
     "execution_count": 1,
     "metadata": {},
     "output_type": "execute_result"
    }
   ],
   "source": [
    "from numpy import loadtxt\n",
    "from tensorflow.keras.models import Sequential\n",
    "from tensorflow.keras.layers import Dense\n",
    "from tensorflow import keras\n",
    "from tensorflow.keras import layers,callbacks\n",
    "import pandas as pd\n",
    "import numpy as np\n",
    "import seaborn as sns\n",
    "\n",
    "# load the dataset\n",
    "#dataset = loadtxt('anat_qap.csv', delimiter=',')\n",
    "df = pd.read_csv('Phenotypic_V1_0b_preprocessed1.csv')\n",
    "df.head()\n"
   ]
  },
  {
   "cell_type": "code",
   "execution_count": 2,
   "id": "6ad6f473",
   "metadata": {},
   "outputs": [
    {
     "data": {
      "text/html": [
       "<div>\n",
       "<style scoped>\n",
       "    .dataframe tbody tr th:only-of-type {\n",
       "        vertical-align: middle;\n",
       "    }\n",
       "\n",
       "    .dataframe tbody tr th {\n",
       "        vertical-align: top;\n",
       "    }\n",
       "\n",
       "    .dataframe thead th {\n",
       "        text-align: right;\n",
       "    }\n",
       "</style>\n",
       "<table border=\"1\" class=\"dataframe\">\n",
       "  <thead>\n",
       "    <tr style=\"text-align: right;\">\n",
       "      <th></th>\n",
       "      <th>SUB_ID</th>\n",
       "      <th>anat_cnr</th>\n",
       "      <th>anat_efc</th>\n",
       "      <th>anat_fber</th>\n",
       "      <th>anat_fwhm</th>\n",
       "      <th>anat_qi1</th>\n",
       "      <th>anat_snr</th>\n",
       "      <th>DX_GROUP</th>\n",
       "    </tr>\n",
       "  </thead>\n",
       "  <tbody>\n",
       "    <tr>\n",
       "      <th>count</th>\n",
       "      <td>1112.000000</td>\n",
       "      <td>1099.000000</td>\n",
       "      <td>1099.000000</td>\n",
       "      <td>1099.000000</td>\n",
       "      <td>1099.000000</td>\n",
       "      <td>1099.000000</td>\n",
       "      <td>1099.000000</td>\n",
       "      <td>1112.000000</td>\n",
       "    </tr>\n",
       "    <tr>\n",
       "      <th>mean</th>\n",
       "      <td>50752.684353</td>\n",
       "      <td>11.641527</td>\n",
       "      <td>2.079628</td>\n",
       "      <td>72.804971</td>\n",
       "      <td>3.558793</td>\n",
       "      <td>0.072209</td>\n",
       "      <td>48.185793</td>\n",
       "      <td>1.515288</td>\n",
       "    </tr>\n",
       "    <tr>\n",
       "      <th>std</th>\n",
       "      <td>447.680666</td>\n",
       "      <td>5.612932</td>\n",
       "      <td>11.435278</td>\n",
       "      <td>155.033640</td>\n",
       "      <td>0.676312</td>\n",
       "      <td>0.052283</td>\n",
       "      <td>282.736653</td>\n",
       "      <td>0.499991</td>\n",
       "    </tr>\n",
       "    <tr>\n",
       "      <th>min</th>\n",
       "      <td>50002.000000</td>\n",
       "      <td>0.000015</td>\n",
       "      <td>-217.560433</td>\n",
       "      <td>-3.123743</td>\n",
       "      <td>2.533930</td>\n",
       "      <td>0.000451</td>\n",
       "      <td>0.001400</td>\n",
       "      <td>1.000000</td>\n",
       "    </tr>\n",
       "    <tr>\n",
       "      <th>25%</th>\n",
       "      <td>50354.750000</td>\n",
       "      <td>8.613273</td>\n",
       "      <td>0.755764</td>\n",
       "      <td>3.898699</td>\n",
       "      <td>3.088846</td>\n",
       "      <td>0.040015</td>\n",
       "      <td>12.262756</td>\n",
       "      <td>1.000000</td>\n",
       "    </tr>\n",
       "    <tr>\n",
       "      <th>50%</th>\n",
       "      <td>50724.500000</td>\n",
       "      <td>10.966648</td>\n",
       "      <td>1.675090</td>\n",
       "      <td>10.341742</td>\n",
       "      <td>3.401205</td>\n",
       "      <td>0.060916</td>\n",
       "      <td>15.601842</td>\n",
       "      <td>2.000000</td>\n",
       "    </tr>\n",
       "    <tr>\n",
       "      <th>75%</th>\n",
       "      <td>51153.250000</td>\n",
       "      <td>13.181021</td>\n",
       "      <td>3.197335</td>\n",
       "      <td>86.028008</td>\n",
       "      <td>3.831771</td>\n",
       "      <td>0.093534</td>\n",
       "      <td>21.528386</td>\n",
       "      <td>2.000000</td>\n",
       "    </tr>\n",
       "    <tr>\n",
       "      <th>max</th>\n",
       "      <td>51607.000000</td>\n",
       "      <td>51.691800</td>\n",
       "      <td>33.318370</td>\n",
       "      <td>1734.146859</td>\n",
       "      <td>5.938324</td>\n",
       "      <td>0.259048</td>\n",
       "      <td>5957.198529</td>\n",
       "      <td>2.000000</td>\n",
       "    </tr>\n",
       "  </tbody>\n",
       "</table>\n",
       "</div>"
      ],
      "text/plain": [
       "             SUB_ID     anat_cnr     anat_efc    anat_fber    anat_fwhm  \\\n",
       "count   1112.000000  1099.000000  1099.000000  1099.000000  1099.000000   \n",
       "mean   50752.684353    11.641527     2.079628    72.804971     3.558793   \n",
       "std      447.680666     5.612932    11.435278   155.033640     0.676312   \n",
       "min    50002.000000     0.000015  -217.560433    -3.123743     2.533930   \n",
       "25%    50354.750000     8.613273     0.755764     3.898699     3.088846   \n",
       "50%    50724.500000    10.966648     1.675090    10.341742     3.401205   \n",
       "75%    51153.250000    13.181021     3.197335    86.028008     3.831771   \n",
       "max    51607.000000    51.691800    33.318370  1734.146859     5.938324   \n",
       "\n",
       "          anat_qi1     anat_snr     DX_GROUP  \n",
       "count  1099.000000  1099.000000  1112.000000  \n",
       "mean      0.072209    48.185793     1.515288  \n",
       "std       0.052283   282.736653     0.499991  \n",
       "min       0.000451     0.001400     1.000000  \n",
       "25%       0.040015    12.262756     1.000000  \n",
       "50%       0.060916    15.601842     2.000000  \n",
       "75%       0.093534    21.528386     2.000000  \n",
       "max       0.259048  5957.198529     2.000000  "
      ]
     },
     "execution_count": 2,
     "metadata": {},
     "output_type": "execute_result"
    }
   ],
   "source": [
    "df=df[['SUB_ID','anat_cnr','anat_efc','anat_fber','anat_fwhm','anat_qi1','anat_snr','DX_GROUP']]\n",
    "df.describe()\n"
   ]
  },
  {
   "cell_type": "code",
   "execution_count": 3,
   "id": "e01de6d7",
   "metadata": {},
   "outputs": [
    {
     "name": "stdout",
     "output_type": "stream",
     "text": [
      "Number of null values:\n",
      "SUB_ID        0\n",
      "anat_cnr     13\n",
      "anat_efc     13\n",
      "anat_fber    13\n",
      "anat_fwhm    13\n",
      "anat_qi1     13\n",
      "anat_snr     13\n",
      "DX_GROUP      0\n",
      "dtype: int64\n"
     ]
    }
   ],
   "source": [
    "#Checking for null values to fill\n",
    "print(\"Number of null values:\")\n",
    "print(df.isnull().sum())"
   ]
  },
  {
   "cell_type": "code",
   "execution_count": 4,
   "id": "7d286b35",
   "metadata": {},
   "outputs": [
    {
     "name": "stdout",
     "output_type": "stream",
     "text": [
      "SUB_ID : [50002 50003 50004 ... 51585 51606 51607]\n",
      "anat_cnr : [10.20153877  7.16570147  7.69814438 ...  3.41346894  7.83900677\n",
      " 12.16929687]\n",
      "anat_efc : [1.19466382 1.12675161 1.22621772 ... 1.35823764 1.75436261 2.81835195]\n",
      "anat_fber : [16.22345825 10.4600076   9.72575046 ...  4.33569983 12.27005481\n",
      "  9.27210712]\n",
      "anat_fwhm : [3.8780004  4.28223801 3.88168429 ... 3.32455    3.23217    3.51019   ]\n",
      "anat_qi1 : [0.15271098 0.16171559 0.17418572 ... 0.10948991 0.08396437 0.04430978]\n",
      "anat_snr : [12.07245188  9.24115456  9.32346277 ...  4.93395956 16.4031739\n",
      " 23.56598215]\n",
      "DX_GROUP : [1 2]\n"
     ]
    }
   ],
   "source": [
    "#Checking number of unique values and wrong entries like symbols -,?,#,*,etc.\n",
    "for col in df.columns:\n",
    "    print('{} : {}'.format(col,df[col].unique()))"
   ]
  },
  {
   "cell_type": "code",
   "execution_count": 5,
   "id": "408d8332",
   "metadata": {},
   "outputs": [
    {
     "name": "stdout",
     "output_type": "stream",
     "text": [
      "Data after dropping empty columns:\n",
      "(1112, 8)\n"
     ]
    }
   ],
   "source": [
    "df = df.dropna(axis='columns', how='all')\n",
    "\n",
    "print(\"Data after dropping empty columns:\")\n",
    "print(df.shape)"
   ]
  },
  {
   "cell_type": "code",
   "execution_count": 6,
   "id": "c90a2a1b",
   "metadata": {
    "scrolled": true
   },
   "outputs": [
    {
     "data": {
      "text/plain": [
       "<AxesSubplot:xlabel='anat_cnr', ylabel='Count'>"
      ]
     },
     "execution_count": 6,
     "metadata": {},
     "output_type": "execute_result"
    },
    {
     "data": {
      "image/png": "[encoded data removed]",
      "text/plain": [
       "<Figure size 432x288 with 1 Axes>"
      ]
     },
     "metadata": {
      "needs_background": "light"
     },
     "output_type": "display_data"
    }
   ],
   "source": [
    "#Histogram of Age distrbution\n",
    "sns.histplot(data=df,x='anat_cnr',color=\"#ffb5a7\")"
   ]
  },
  {
   "cell_type": "code",
   "execution_count": 7,
   "id": "66bce4dc",
   "metadata": {},
   "outputs": [
    {
     "data": {
      "text/plain": [
       "<AxesSubplot:>"
      ]
     },
     "execution_count": 7,
     "metadata": {},
     "output_type": "execute_result"
    },
    {
     "data": {
      "image/png": "[encoded data removed]",
      "text/plain": [
       "<Figure size 432x288 with 2 Axes>"
      ]
     },
     "metadata": {
      "needs_background": "light"
     },
     "output_type": "display_data"
    }
   ],
   "source": [
    "#Relationship analysis\n",
    "sns.heatmap(df.corr(),cbar=True, annot=True, cmap='Blues')"
   ]
  },
  {
   "cell_type": "code",
   "execution_count": 8,
   "id": "22cc3549",
   "metadata": {},
   "outputs": [],
   "source": [
    "#Replacing categorical data with integer values\n",
    "df['DX_GROUP'].replace([1,2],['ASD','TD'], inplace=True)"
   ]
  },
  {
   "cell_type": "code",
   "execution_count": 9,
   "id": "cbb6a88f",
   "metadata": {},
   "outputs": [
    {
     "data": {
      "text/plain": [
       "<AxesSubplot:ylabel='DX_GROUP'>"
      ]
     },
     "execution_count": 9,
     "metadata": {},
     "output_type": "execute_result"
    },
    {
     "data": {
      "image/png": "[encoded data removed]",
      "text/plain": [
       "<Figure size 432x288 with 1 Axes>"
      ]
     },
     "metadata": {},
     "output_type": "display_data"
    }
   ],
   "source": [
    "df['DX_GROUP'].value_counts().plot(kind=\"pie\", autopct=\"%.2f\")\n"
   ]
  },
  {
   "cell_type": "code",
   "execution_count": 10,
   "id": "dc656f99",
   "metadata": {},
   "outputs": [
    {
     "data": {
      "image/png": "[encoded data removed]",
      "text/plain": [
       "<Figure size 432x288 with 1 Axes>"
      ]
     },
     "metadata": {
      "needs_background": "light"
     },
     "output_type": "display_data"
    }
   ],
   "source": [
    "sns.countplot(x = 'DX_GROUP', data = df);\n"
   ]
  },
  {
   "cell_type": "code",
   "execution_count": 11,
   "id": "dd981848",
   "metadata": {},
   "outputs": [],
   "source": [
    "# split into input (X) and output (y) variables\n",
    "X=df[['SUB_ID','anat_cnr','anat_efc','anat_fber','anat_fwhm','anat_qi1','anat_snr']]\n",
    "y=df['DX_GROUP']"
   ]
  },
  {
   "cell_type": "code",
   "execution_count": 3,
   "id": "e63aeebe",
   "metadata": {},
   "outputs": [
    {
     "ename": "NameError",
     "evalue": "name 'Sequential' is not defined",
     "output_type": "error",
     "traceback": [
      "\u001b[1;31m---------------------------------------------------------------------------\u001b[0m",
      "\u001b[1;31mNameError\u001b[0m                                 Traceback (most recent call last)",
      "Input \u001b[1;32mIn [3]\u001b[0m, in \u001b[0;36m<module>\u001b[1;34m\u001b[0m\n\u001b[0;32m      1\u001b[0m \u001b[38;5;66;03m# define the keras model\u001b[39;00m\n\u001b[1;32m----> 2\u001b[0m model \u001b[38;5;241m=\u001b[39m \u001b[43mSequential\u001b[49m()\n\u001b[0;32m      3\u001b[0m model\u001b[38;5;241m.\u001b[39madd(Dense(\u001b[38;5;241m12\u001b[39m, input_shape\u001b[38;5;241m=\u001b[39m(\u001b[38;5;241m7\u001b[39m,), activation\u001b[38;5;241m=\u001b[39m\u001b[38;5;124m'\u001b[39m\u001b[38;5;124mrelu\u001b[39m\u001b[38;5;124m'\u001b[39m))\n\u001b[0;32m      4\u001b[0m model\u001b[38;5;241m.\u001b[39madd(Dense(\u001b[38;5;241m8\u001b[39m, activation\u001b[38;5;241m=\u001b[39m\u001b[38;5;124m'\u001b[39m\u001b[38;5;124mrelu\u001b[39m\u001b[38;5;124m'\u001b[39m))\n",
      "\u001b[1;31mNameError\u001b[0m: name 'Sequential' is not defined"
     ]
    }
   ],
   "source": [
    "# define the keras model\n",
    "model = Sequential()\n",
    "model.add(Dense(12, input_shape=(7,), activation='relu'))\n",
    "model.add(Dense(8, activation='relu'))\n",
    "model.add(Dense(1, activation='sigmoid'))\n",
    "\n",
    "model.compile(loss=keras.losses.BinaryCrossentropy(from_logits=True),\n",
    "                optimizer=keras.optimizers.Adam())"
   ]
  },
  {
   "cell_type": "code",
   "execution_count": 2,
   "id": "1c461e49",
   "metadata": {},
   "outputs": [],
   "source": [
    "#model.fit(X, y, epochs=10)\n"
   ]
  }
 ],
 "metadata": {
  "kernelspec": {
   "display_name": "Python 3 (ipykernel)",
   "language": "python",
   "name": "python3"
  },
  "language_info": {
   "codemirror_mode": {
    "name": "ipython",
    "version": 3
   },
   "file_extension": ".py",
   "mimetype": "text/x-python",
   "name": "python",
   "nbconvert_exporter": "python",
   "pygments_lexer": "ipython3",
   "version": "3.9.5"
  }
 },
 "nbformat": 4,
 "nbformat_minor": 5
}
