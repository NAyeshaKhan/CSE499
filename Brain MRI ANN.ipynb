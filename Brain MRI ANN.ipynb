{
 "cells": [
  {
   "cell_type": "code",
   "execution_count": 31,
   "id": "a3a4f47b",
   "metadata": {},
   "outputs": [
    {
     "data": {
      "text/html": [
       "<div>\n",
       "<style scoped>\n",
       "    .dataframe tbody tr th:only-of-type {\n",
       "        vertical-align: middle;\n",
       "    }\n",
       "\n",
       "    .dataframe tbody tr th {\n",
       "        vertical-align: top;\n",
       "    }\n",
       "\n",
       "    .dataframe thead th {\n",
       "        text-align: right;\n",
       "    }\n",
       "</style>\n",
       "<table border=\"1\" class=\"dataframe\">\n",
       "  <thead>\n",
       "    <tr style=\"text-align: right;\">\n",
       "      <th></th>\n",
       "      <th>Site_ID</th>\n",
       "      <th>Sub_ID</th>\n",
       "      <th>Session</th>\n",
       "      <th>Series</th>\n",
       "      <th>Unique_ID</th>\n",
       "      <th>CNR</th>\n",
       "      <th>SNR</th>\n",
       "      <th>Qi1</th>\n",
       "      <th>EFC</th>\n",
       "      <th>Smoothness_of_Voxels</th>\n",
       "      <th>FBER</th>\n",
       "      <th>Cortical Contrast</th>\n",
       "    </tr>\n",
       "  </thead>\n",
       "  <tbody>\n",
       "    <tr>\n",
       "      <th>0</th>\n",
       "      <td>ABIDEII-BNI_1</td>\n",
       "      <td>29006</td>\n",
       "      <td>session_1</td>\n",
       "      <td>anat_1</td>\n",
       "      <td>ABIDEII-BNI_1_29006_session_1_anat_1</td>\n",
       "      <td>3.739700</td>\n",
       "      <td>8.044581</td>\n",
       "      <td>0.029466</td>\n",
       "      <td>0.374966</td>\n",
       "      <td>4.444132</td>\n",
       "      <td>1623.309074</td>\n",
       "      <td>0.346157</td>\n",
       "    </tr>\n",
       "    <tr>\n",
       "      <th>1</th>\n",
       "      <td>ABIDEII-BNI_1</td>\n",
       "      <td>29007</td>\n",
       "      <td>session_1</td>\n",
       "      <td>anat_1</td>\n",
       "      <td>ABIDEII-BNI_1_29007_session_1_anat_1</td>\n",
       "      <td>3.909783</td>\n",
       "      <td>8.098633</td>\n",
       "      <td>0.027127</td>\n",
       "      <td>0.383418</td>\n",
       "      <td>4.723703</td>\n",
       "      <td>1687.366231</td>\n",
       "      <td>0.345985</td>\n",
       "    </tr>\n",
       "    <tr>\n",
       "      <th>2</th>\n",
       "      <td>ABIDEII-BNI_1</td>\n",
       "      <td>29008</td>\n",
       "      <td>session_1</td>\n",
       "      <td>anat_1</td>\n",
       "      <td>ABIDEII-BNI_1_29008_session_1_anat_1</td>\n",
       "      <td>3.539676</td>\n",
       "      <td>8.064538</td>\n",
       "      <td>0.027055</td>\n",
       "      <td>0.355422</td>\n",
       "      <td>4.387167</td>\n",
       "      <td>1568.398781</td>\n",
       "      <td>0.323096</td>\n",
       "    </tr>\n",
       "    <tr>\n",
       "      <th>3</th>\n",
       "      <td>ABIDEII-BNI_1</td>\n",
       "      <td>29009</td>\n",
       "      <td>session_1</td>\n",
       "      <td>anat_1</td>\n",
       "      <td>ABIDEII-BNI_1_29009_session_1_anat_1</td>\n",
       "      <td>4.340816</td>\n",
       "      <td>9.175651</td>\n",
       "      <td>0.022776</td>\n",
       "      <td>0.370577</td>\n",
       "      <td>4.325262</td>\n",
       "      <td>2212.091689</td>\n",
       "      <td>0.349804</td>\n",
       "    </tr>\n",
       "    <tr>\n",
       "      <th>4</th>\n",
       "      <td>ABIDEII-BNI_1</td>\n",
       "      <td>29010</td>\n",
       "      <td>session_1</td>\n",
       "      <td>anat_1</td>\n",
       "      <td>ABIDEII-BNI_1_29010_session_1_anat_1</td>\n",
       "      <td>4.287266</td>\n",
       "      <td>8.598315</td>\n",
       "      <td>0.041394</td>\n",
       "      <td>0.361352</td>\n",
       "      <td>4.494184</td>\n",
       "      <td>1389.710795</td>\n",
       "      <td>0.341943</td>\n",
       "    </tr>\n",
       "  </tbody>\n",
       "</table>\n",
       "</div>"
      ],
      "text/plain": [
       "         Site_ID  Sub_ID    Session  Series  \\\n",
       "0  ABIDEII-BNI_1   29006  session_1  anat_1   \n",
       "1  ABIDEII-BNI_1   29007  session_1  anat_1   \n",
       "2  ABIDEII-BNI_1   29008  session_1  anat_1   \n",
       "3  ABIDEII-BNI_1   29009  session_1  anat_1   \n",
       "4  ABIDEII-BNI_1   29010  session_1  anat_1   \n",
       "\n",
       "                              Unique_ID       CNR       SNR       Qi1  \\\n",
       "0  ABIDEII-BNI_1_29006_session_1_anat_1  3.739700  8.044581  0.029466   \n",
       "1  ABIDEII-BNI_1_29007_session_1_anat_1  3.909783  8.098633  0.027127   \n",
       "2  ABIDEII-BNI_1_29008_session_1_anat_1  3.539676  8.064538  0.027055   \n",
       "3  ABIDEII-BNI_1_29009_session_1_anat_1  4.340816  9.175651  0.022776   \n",
       "4  ABIDEII-BNI_1_29010_session_1_anat_1  4.287266  8.598315  0.041394   \n",
       "\n",
       "        EFC  Smoothness_of_Voxels         FBER  Cortical Contrast  \n",
       "0  0.374966              4.444132  1623.309074           0.346157  \n",
       "1  0.383418              4.723703  1687.366231           0.345985  \n",
       "2  0.355422              4.387167  1568.398781           0.323096  \n",
       "3  0.370577              4.325262  2212.091689           0.349804  \n",
       "4  0.361352              4.494184  1389.710795           0.341943  "
      ]
     },
     "execution_count": 31,
     "metadata": {},
     "output_type": "execute_result"
    }
   ],
   "source": [
    "from numpy import loadtxt\n",
    "from tensorflow.keras.models import Sequential\n",
    "from tensorflow.keras.layers import Dense\n",
    "from tensorflow import keras\n",
    "from tensorflow.keras import layers,callbacks\n",
    "import pandas as pd\n",
    "import numpy as np\n",
    "import seaborn as sns\n",
    "\n",
    "# load the dataset\n",
    "#dataset = loadtxt('anat_qap.csv', delimiter=',')\n",
    "df = pd.read_csv('anat_qap.csv')\n",
    "df.head()\n"
   ]
  },
  {
   "cell_type": "code",
   "execution_count": 32,
   "id": "6ad6f473",
   "metadata": {},
   "outputs": [
    {
     "data": {
      "text/html": [
       "<div>\n",
       "<style scoped>\n",
       "    .dataframe tbody tr th:only-of-type {\n",
       "        vertical-align: middle;\n",
       "    }\n",
       "\n",
       "    .dataframe tbody tr th {\n",
       "        vertical-align: top;\n",
       "    }\n",
       "\n",
       "    .dataframe thead th {\n",
       "        text-align: right;\n",
       "    }\n",
       "</style>\n",
       "<table border=\"1\" class=\"dataframe\">\n",
       "  <thead>\n",
       "    <tr style=\"text-align: right;\">\n",
       "      <th></th>\n",
       "      <th>Sub_ID</th>\n",
       "      <th>CNR</th>\n",
       "      <th>SNR</th>\n",
       "      <th>Qi1</th>\n",
       "      <th>EFC</th>\n",
       "      <th>Smoothness_of_Voxels</th>\n",
       "      <th>FBER</th>\n",
       "      <th>Cortical Contrast</th>\n",
       "    </tr>\n",
       "  </thead>\n",
       "  <tbody>\n",
       "    <tr>\n",
       "      <th>count</th>\n",
       "      <td>1359.000000</td>\n",
       "      <td>1359.000000</td>\n",
       "      <td>1359.000000</td>\n",
       "      <td>1359.000000</td>\n",
       "      <td>1359.000000</td>\n",
       "      <td>1359.000000</td>\n",
       "      <td>1359.000000</td>\n",
       "      <td>1359.000000</td>\n",
       "    </tr>\n",
       "    <tr>\n",
       "      <th>mean</th>\n",
       "      <td>30381.351729</td>\n",
       "      <td>8.624573</td>\n",
       "      <td>17.312411</td>\n",
       "      <td>0.143365</td>\n",
       "      <td>0.457526</td>\n",
       "      <td>3.508779</td>\n",
       "      <td>803.468846</td>\n",
       "      <td>0.372319</td>\n",
       "    </tr>\n",
       "    <tr>\n",
       "      <th>std</th>\n",
       "      <td>4980.291356</td>\n",
       "      <td>3.475447</td>\n",
       "      <td>5.118927</td>\n",
       "      <td>0.084468</td>\n",
       "      <td>0.075750</td>\n",
       "      <td>0.713982</td>\n",
       "      <td>687.718680</td>\n",
       "      <td>0.059650</td>\n",
       "    </tr>\n",
       "    <tr>\n",
       "      <th>min</th>\n",
       "      <td>28675.000000</td>\n",
       "      <td>2.774116</td>\n",
       "      <td>5.890210</td>\n",
       "      <td>0.015219</td>\n",
       "      <td>0.300929</td>\n",
       "      <td>2.404120</td>\n",
       "      <td>37.017187</td>\n",
       "      <td>0.219213</td>\n",
       "    </tr>\n",
       "    <tr>\n",
       "      <th>25%</th>\n",
       "      <td>28783.500000</td>\n",
       "      <td>6.313351</td>\n",
       "      <td>12.961524</td>\n",
       "      <td>0.073635</td>\n",
       "      <td>0.404586</td>\n",
       "      <td>2.917023</td>\n",
       "      <td>225.098971</td>\n",
       "      <td>0.342812</td>\n",
       "    </tr>\n",
       "    <tr>\n",
       "      <th>50%</th>\n",
       "      <td>29159.000000</td>\n",
       "      <td>8.370893</td>\n",
       "      <td>17.136217</td>\n",
       "      <td>0.123411</td>\n",
       "      <td>0.446699</td>\n",
       "      <td>3.305354</td>\n",
       "      <td>575.045085</td>\n",
       "      <td>0.366492</td>\n",
       "    </tr>\n",
       "    <tr>\n",
       "      <th>75%</th>\n",
       "      <td>29532.500000</td>\n",
       "      <td>10.197203</td>\n",
       "      <td>20.939911</td>\n",
       "      <td>0.197912</td>\n",
       "      <td>0.500247</td>\n",
       "      <td>4.012787</td>\n",
       "      <td>1271.582810</td>\n",
       "      <td>0.393775</td>\n",
       "    </tr>\n",
       "    <tr>\n",
       "      <th>max</th>\n",
       "      <td>51315.000000</td>\n",
       "      <td>33.555915</td>\n",
       "      <td>31.212256</td>\n",
       "      <td>0.469157</td>\n",
       "      <td>0.715488</td>\n",
       "      <td>6.879572</td>\n",
       "      <td>3928.347851</td>\n",
       "      <td>0.954482</td>\n",
       "    </tr>\n",
       "  </tbody>\n",
       "</table>\n",
       "</div>"
      ],
      "text/plain": [
       "             Sub_ID          CNR          SNR          Qi1          EFC  \\\n",
       "count   1359.000000  1359.000000  1359.000000  1359.000000  1359.000000   \n",
       "mean   30381.351729     8.624573    17.312411     0.143365     0.457526   \n",
       "std     4980.291356     3.475447     5.118927     0.084468     0.075750   \n",
       "min    28675.000000     2.774116     5.890210     0.015219     0.300929   \n",
       "25%    28783.500000     6.313351    12.961524     0.073635     0.404586   \n",
       "50%    29159.000000     8.370893    17.136217     0.123411     0.446699   \n",
       "75%    29532.500000    10.197203    20.939911     0.197912     0.500247   \n",
       "max    51315.000000    33.555915    31.212256     0.469157     0.715488   \n",
       "\n",
       "       Smoothness_of_Voxels         FBER  Cortical Contrast  \n",
       "count           1359.000000  1359.000000        1359.000000  \n",
       "mean               3.508779   803.468846           0.372319  \n",
       "std                0.713982   687.718680           0.059650  \n",
       "min                2.404120    37.017187           0.219213  \n",
       "25%                2.917023   225.098971           0.342812  \n",
       "50%                3.305354   575.045085           0.366492  \n",
       "75%                4.012787  1271.582810           0.393775  \n",
       "max                6.879572  3928.347851           0.954482  "
      ]
     },
     "execution_count": 32,
     "metadata": {},
     "output_type": "execute_result"
    }
   ],
   "source": [
    "df.describe()"
   ]
  },
  {
   "cell_type": "code",
   "execution_count": 33,
   "id": "e01de6d7",
   "metadata": {},
   "outputs": [
    {
     "name": "stdout",
     "output_type": "stream",
     "text": [
      "Number of null values:\n",
      "Site_ID                 0\n",
      "Sub_ID                  0\n",
      "Session                 0\n",
      "Series                  0\n",
      "Unique_ID               0\n",
      "CNR                     0\n",
      "SNR                     0\n",
      "Qi1                     0\n",
      "EFC                     0\n",
      "Smoothness_of_Voxels    0\n",
      "FBER                    0\n",
      "Cortical Contrast       0\n",
      "dtype: int64\n"
     ]
    }
   ],
   "source": [
    "#Checking for null values to fill\n",
    "print(\"Number of null values:\")\n",
    "print(df.isnull().sum())"
   ]
  },
  {
   "cell_type": "code",
   "execution_count": 34,
   "id": "7d286b35",
   "metadata": {},
   "outputs": [
    {
     "name": "stdout",
     "output_type": "stream",
     "text": [
      "Site_ID : ['ABIDEII-BNI_1' 'ABIDEII-EMC_1' 'ABIDEII-ETH_1' 'ABIDEII-GU_1'\n",
      " 'ABIDEII-IP_1' 'ABIDEII-IU_1' 'ABIDEII-KKI_1' 'ABIDEII-KUL_3'\n",
      " 'ABIDEII-NYU_1' 'ABIDEII-NYU_2' 'ABIDEII-OHSU_1' 'ABIDEII-ONRC_2'\n",
      " 'ABIDEII-SDSU_1' 'ABIDEII-TCD_1' 'ABIDEII-UCD_1' 'ABIDEII-UCLA_1'\n",
      " 'ABIDEII-USM_1' 'ABIDEII-UCLA_Long' 'ABIDEII-UPSM_Long']\n",
      "Sub_ID : [29006 29007 29008 ... 50049 50050 50051]\n",
      "Session : ['session_1' 'session_2' 'baseline' 'followup_1' 'followup_2']\n",
      "Series : ['anat_1' 'anat_2' 'anat_5' 'anat_4' 'anat_3' 'anat_6']\n",
      "Unique_ID : ['ABIDEII-BNI_1_29006_session_1_anat_1'\n",
      " 'ABIDEII-BNI_1_29007_session_1_anat_1'\n",
      " 'ABIDEII-BNI_1_29008_session_1_anat_1' ...\n",
      " 'ABIDEII-UPSM_Long_50050_followup_1_anat_1'\n",
      " 'ABIDEII-UPSM_Long_50051_baseline_anat_1'\n",
      " 'ABIDEII-UPSM_Long_50051_followup_1_anat_1']\n",
      "CNR : [ 3.73970045  3.90978313  3.53967578 ... 10.18313466 10.64652799\n",
      " 11.77854207]\n",
      "SNR : [ 8.04458085  8.09863259  8.06453778 ... 19.97628414 18.94514539\n",
      " 20.56350119]\n",
      "Qi1 : [0.02946565 0.02712723 0.02705517 ... 0.12960516 0.17697512 0.14547333]\n",
      "EFC : [0.3749655  0.38341831 0.35542187 ... 0.41489386 0.4761376  0.45891151]\n",
      "Smoothness_of_Voxels : [4.44413156 4.72370252 4.38716681 ... 3.83604026 4.00229114 3.84059991]\n",
      "FBER : [1623.309074  1687.366231  1568.398781  ...  429.7276276  283.1479417\n",
      "  352.8914211]\n",
      "Cortical Contrast : [0.34615702 0.34598526 0.32309649 ... 0.30898    0.33727388 0.35903155]\n"
     ]
    }
   ],
   "source": [
    "#Checking number of unique values and wrong entries like symbols -,?,#,*,etc.\n",
    "for col in df.columns:\n",
    "    print('{} : {}'.format(col,df[col].unique()))"
   ]
  },
  {
   "cell_type": "code",
   "execution_count": 35,
   "id": "c90a2a1b",
   "metadata": {
    "scrolled": true
   },
   "outputs": [
    {
     "data": {
      "text/plain": [
       "<AxesSubplot:xlabel='CNR', ylabel='Count'>"
      ]
     },
     "execution_count": 35,
     "metadata": {},
     "output_type": "execute_result"
    },
    {
     "data": {
      "image/png": "[encoded data removed]",
      "text/plain": [
       "<Figure size 432x288 with 1 Axes>"
      ]
     },
     "metadata": {
      "needs_background": "light"
     },
     "output_type": "display_data"
    }
   ],
   "source": [
    "#Histogram of Age distrbution\n",
    "sns.histplot(data=df,x='CNR',color=\"#ffb5a7\")"
   ]
  },
  {
   "cell_type": "code",
   "execution_count": 36,
   "id": "66bce4dc",
   "metadata": {},
   "outputs": [
    {
     "data": {
      "text/plain": [
       "<AxesSubplot:>"
      ]
     },
     "execution_count": 36,
     "metadata": {},
     "output_type": "execute_result"
    },
    {
     "data": {
      "image/png": "[encoded data removed]",
      "text/plain": [
       "<Figure size 432x288 with 2 Axes>"
      ]
     },
     "metadata": {
      "needs_background": "light"
     },
     "output_type": "display_data"
    }
   ],
   "source": [
    "#Relationship analysis\n",
    "sns.heatmap(df.corr(),cbar=True, annot=True, cmap='Blues')"
   ]
  },
  {
   "cell_type": "code",
   "execution_count": 37,
   "id": "dd981848",
   "metadata": {},
   "outputs": [],
   "source": [
    "# split into input (X) and output (y) variables\n",
    "X=df[['CNR','SNR','Qi1','EFC','Smoothness_of_Voxels','FBER']]\n",
    "y=df['Cortical Contrast']"
   ]
  },
  {
   "cell_type": "code",
   "execution_count": 38,
   "id": "e63aeebe",
   "metadata": {},
   "outputs": [],
   "source": [
    "# define the keras model\n",
    "model = Sequential()\n",
    "model.add(Dense(12, input_shape=(8,), activation='relu'))\n",
    "model.add(Dense(8, activation='relu'))\n",
    "model.add(Dense(1, activation='sigmoid'))"
   ]
  },
  {
   "cell_type": "code",
   "execution_count": null,
   "id": "1c461e49",
   "metadata": {},
   "outputs": [],
   "source": []
  }
 ],
 "metadata": {
  "kernelspec": {
   "display_name": "Python 3 (ipykernel)",
   "language": "python",
   "name": "python3"
  },
  "language_info": {
   "codemirror_mode": {
    "name": "ipython",
    "version": 3
   },
   "file_extension": ".py",
   "mimetype": "text/x-python",
   "name": "python",
   "nbconvert_exporter": "python",
   "pygments_lexer": "ipython3",
   "version": "3.9.5"
  }
 },
 "nbformat": 4,
 "nbformat_minor": 5
}
