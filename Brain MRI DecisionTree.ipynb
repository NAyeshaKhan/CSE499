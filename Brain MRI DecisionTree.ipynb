{
 "cells": [
  {
   "cell_type": "code",
   "execution_count": 16,
   "id": "831a7b1c",
   "metadata": {},
   "outputs": [],
   "source": [
    "import pandas as pd\n",
    "import numpy as np\n",
    "import matplotlib.pyplot as plt\n",
    "import matplotlib.colors as colors\n",
    "from sklearn.utils import resample\n",
    "from sklearn.model_selection import train_test_split\n",
    "from sklearn.preprocessing import scale\n",
    "from sklearn.tree import DecisionTreeClassifier\n",
    "from sklearn.model_selection import GridSearchCV\n",
    "from sklearn.metrics import confusion_matrix\n",
    "from sklearn.metrics import plot_confusion_matrix\n",
    "from sklearn.decomposition import PCA\n",
    "from sklearn.metrics import accuracy_score\n",
    "\n",
    "df = pd.read_csv('Phenotypic_V1_0b_preprocessed1.csv')\n",
    "\n",
    "#cnr: CONTRAST TO NOISE RATIO, EFC:Overview of extension, SNR: Signal to Noise Ratio, \n",
    "#qi1: model-free quality index, fwhm:Full Width at Half Maximum, fber:fiber-track"
   ]
  },
  {
   "cell_type": "code",
   "execution_count": 17,
   "id": "c7e88971",
   "metadata": {},
   "outputs": [
    {
     "data": {
      "text/html": [
       "<div>\n",
       "<style scoped>\n",
       "    .dataframe tbody tr th:only-of-type {\n",
       "        vertical-align: middle;\n",
       "    }\n",
       "\n",
       "    .dataframe tbody tr th {\n",
       "        vertical-align: top;\n",
       "    }\n",
       "\n",
       "    .dataframe thead th {\n",
       "        text-align: right;\n",
       "    }\n",
       "</style>\n",
       "<table border=\"1\" class=\"dataframe\">\n",
       "  <thead>\n",
       "    <tr style=\"text-align: right;\">\n",
       "      <th></th>\n",
       "      <th>Unnamed: 0</th>\n",
       "      <th>SUB_ID</th>\n",
       "      <th>X</th>\n",
       "      <th>subject</th>\n",
       "      <th>SITE_ID</th>\n",
       "      <th>FILE_ID</th>\n",
       "      <th>DX_GROUP</th>\n",
       "      <th>anat_cnr</th>\n",
       "      <th>anat_efc</th>\n",
       "      <th>anat_fber</th>\n",
       "      <th>anat_fwhm</th>\n",
       "      <th>anat_qi1</th>\n",
       "      <th>anat_snr</th>\n",
       "    </tr>\n",
       "  </thead>\n",
       "  <tbody>\n",
       "    <tr>\n",
       "      <th>0</th>\n",
       "      <td>1</td>\n",
       "      <td>50002</td>\n",
       "      <td>1</td>\n",
       "      <td>50002</td>\n",
       "      <td>PITT</td>\n",
       "      <td>no_filename</td>\n",
       "      <td>1</td>\n",
       "      <td>10.201539</td>\n",
       "      <td>1.194664</td>\n",
       "      <td>16.223458</td>\n",
       "      <td>3.878000</td>\n",
       "      <td>0.152711</td>\n",
       "      <td>12.072452</td>\n",
       "    </tr>\n",
       "    <tr>\n",
       "      <th>1</th>\n",
       "      <td>2</td>\n",
       "      <td>50003</td>\n",
       "      <td>2</td>\n",
       "      <td>50003</td>\n",
       "      <td>PITT</td>\n",
       "      <td>Pitt_0050003</td>\n",
       "      <td>1</td>\n",
       "      <td>7.165701</td>\n",
       "      <td>1.126752</td>\n",
       "      <td>10.460008</td>\n",
       "      <td>4.282238</td>\n",
       "      <td>0.161716</td>\n",
       "      <td>9.241155</td>\n",
       "    </tr>\n",
       "    <tr>\n",
       "      <th>2</th>\n",
       "      <td>3</td>\n",
       "      <td>50004</td>\n",
       "      <td>3</td>\n",
       "      <td>50004</td>\n",
       "      <td>PITT</td>\n",
       "      <td>Pitt_0050004</td>\n",
       "      <td>1</td>\n",
       "      <td>7.698144</td>\n",
       "      <td>1.226218</td>\n",
       "      <td>9.725750</td>\n",
       "      <td>3.881684</td>\n",
       "      <td>0.174186</td>\n",
       "      <td>9.323463</td>\n",
       "    </tr>\n",
       "    <tr>\n",
       "      <th>3</th>\n",
       "      <td>4</td>\n",
       "      <td>50005</td>\n",
       "      <td>4</td>\n",
       "      <td>50005</td>\n",
       "      <td>PITT</td>\n",
       "      <td>Pitt_0050005</td>\n",
       "      <td>1</td>\n",
       "      <td>9.071807</td>\n",
       "      <td>1.256278</td>\n",
       "      <td>11.198226</td>\n",
       "      <td>3.628667</td>\n",
       "      <td>0.119269</td>\n",
       "      <td>10.814200</td>\n",
       "    </tr>\n",
       "    <tr>\n",
       "      <th>4</th>\n",
       "      <td>5</td>\n",
       "      <td>50006</td>\n",
       "      <td>5</td>\n",
       "      <td>50006</td>\n",
       "      <td>PITT</td>\n",
       "      <td>Pitt_0050006</td>\n",
       "      <td>1</td>\n",
       "      <td>8.026798</td>\n",
       "      <td>1.407166</td>\n",
       "      <td>6.282055</td>\n",
       "      <td>3.674539</td>\n",
       "      <td>0.130647</td>\n",
       "      <td>10.123574</td>\n",
       "    </tr>\n",
       "  </tbody>\n",
       "</table>\n",
       "</div>"
      ],
      "text/plain": [
       "   Unnamed: 0  SUB_ID  X  subject SITE_ID       FILE_ID  DX_GROUP   anat_cnr  \\\n",
       "0           1   50002  1    50002    PITT   no_filename         1  10.201539   \n",
       "1           2   50003  2    50003    PITT  Pitt_0050003         1   7.165701   \n",
       "2           3   50004  3    50004    PITT  Pitt_0050004         1   7.698144   \n",
       "3           4   50005  4    50005    PITT  Pitt_0050005         1   9.071807   \n",
       "4           5   50006  5    50006    PITT  Pitt_0050006         1   8.026798   \n",
       "\n",
       "   anat_efc  anat_fber  anat_fwhm  anat_qi1   anat_snr  \n",
       "0  1.194664  16.223458   3.878000  0.152711  12.072452  \n",
       "1  1.126752  10.460008   4.282238  0.161716   9.241155  \n",
       "2  1.226218   9.725750   3.881684  0.174186   9.323463  \n",
       "3  1.256278  11.198226   3.628667  0.119269  10.814200  \n",
       "4  1.407166   6.282055   3.674539  0.130647  10.123574  "
      ]
     },
     "execution_count": 17,
     "metadata": {},
     "output_type": "execute_result"
    }
   ],
   "source": [
    "df.head()"
   ]
  },
  {
   "cell_type": "code",
   "execution_count": 18,
   "id": "3ab0dc53",
   "metadata": {},
   "outputs": [
    {
     "data": {
      "text/html": [
       "<div>\n",
       "<style scoped>\n",
       "    .dataframe tbody tr th:only-of-type {\n",
       "        vertical-align: middle;\n",
       "    }\n",
       "\n",
       "    .dataframe tbody tr th {\n",
       "        vertical-align: top;\n",
       "    }\n",
       "\n",
       "    .dataframe thead th {\n",
       "        text-align: right;\n",
       "    }\n",
       "</style>\n",
       "<table border=\"1\" class=\"dataframe\">\n",
       "  <thead>\n",
       "    <tr style=\"text-align: right;\">\n",
       "      <th></th>\n",
       "      <th>anat_cnr</th>\n",
       "      <th>anat_efc</th>\n",
       "      <th>anat_fber</th>\n",
       "      <th>anat_fwhm</th>\n",
       "      <th>anat_qi1</th>\n",
       "      <th>anat_snr</th>\n",
       "    </tr>\n",
       "  </thead>\n",
       "  <tbody>\n",
       "    <tr>\n",
       "      <th>0</th>\n",
       "      <td>10.201539</td>\n",
       "      <td>1.194664</td>\n",
       "      <td>16.223458</td>\n",
       "      <td>3.878000</td>\n",
       "      <td>0.152711</td>\n",
       "      <td>12.072452</td>\n",
       "    </tr>\n",
       "    <tr>\n",
       "      <th>1</th>\n",
       "      <td>7.165701</td>\n",
       "      <td>1.126752</td>\n",
       "      <td>10.460008</td>\n",
       "      <td>4.282238</td>\n",
       "      <td>0.161716</td>\n",
       "      <td>9.241155</td>\n",
       "    </tr>\n",
       "    <tr>\n",
       "      <th>2</th>\n",
       "      <td>7.698144</td>\n",
       "      <td>1.226218</td>\n",
       "      <td>9.725750</td>\n",
       "      <td>3.881684</td>\n",
       "      <td>0.174186</td>\n",
       "      <td>9.323463</td>\n",
       "    </tr>\n",
       "    <tr>\n",
       "      <th>3</th>\n",
       "      <td>9.071807</td>\n",
       "      <td>1.256278</td>\n",
       "      <td>11.198226</td>\n",
       "      <td>3.628667</td>\n",
       "      <td>0.119269</td>\n",
       "      <td>10.814200</td>\n",
       "    </tr>\n",
       "    <tr>\n",
       "      <th>4</th>\n",
       "      <td>8.026798</td>\n",
       "      <td>1.407166</td>\n",
       "      <td>6.282055</td>\n",
       "      <td>3.674539</td>\n",
       "      <td>0.130647</td>\n",
       "      <td>10.123574</td>\n",
       "    </tr>\n",
       "  </tbody>\n",
       "</table>\n",
       "</div>"
      ],
      "text/plain": [
       "    anat_cnr  anat_efc  anat_fber  anat_fwhm  anat_qi1   anat_snr\n",
       "0  10.201539  1.194664  16.223458   3.878000  0.152711  12.072452\n",
       "1   7.165701  1.126752  10.460008   4.282238  0.161716   9.241155\n",
       "2   7.698144  1.226218   9.725750   3.881684  0.174186   9.323463\n",
       "3   9.071807  1.256278  11.198226   3.628667  0.119269  10.814200\n",
       "4   8.026798  1.407166   6.282055   3.674539  0.130647  10.123574"
      ]
     },
     "execution_count": 18,
     "metadata": {},
     "output_type": "execute_result"
    }
   ],
   "source": [
    "df.drop(df.columns[[0,1,2,3,4,5,6]],axis=1,inplace=True)\n",
    "df.head()"
   ]
  },
  {
   "cell_type": "code",
   "execution_count": 19,
   "id": "c1f666c6",
   "metadata": {},
   "outputs": [],
   "source": [
    "#dropping null values\n",
    "df=df.dropna()\n"
   ]
  },
  {
   "cell_type": "code",
   "execution_count": 20,
   "id": "b154da2c",
   "metadata": {},
   "outputs": [
    {
     "name": "stdout",
     "output_type": "stream",
     "text": [
      "Number of null values:\n",
      "anat_cnr     0\n",
      "anat_efc     0\n",
      "anat_fber    0\n",
      "anat_fwhm    0\n",
      "anat_qi1     0\n",
      "anat_snr     0\n",
      "dtype: int64\n"
     ]
    }
   ],
   "source": [
    "#Checking for null values to fill\n",
    "print(\"Number of null values:\")\n",
    "print(df.isnull().sum())"
   ]
  },
  {
   "cell_type": "code",
   "execution_count": 23,
   "id": "009b2f0b",
   "metadata": {},
   "outputs": [
    {
     "data": {
      "text/html": [
       "<div>\n",
       "<style scoped>\n",
       "    .dataframe tbody tr th:only-of-type {\n",
       "        vertical-align: middle;\n",
       "    }\n",
       "\n",
       "    .dataframe tbody tr th {\n",
       "        vertical-align: top;\n",
       "    }\n",
       "\n",
       "    .dataframe thead th {\n",
       "        text-align: right;\n",
       "    }\n",
       "</style>\n",
       "<table border=\"1\" class=\"dataframe\">\n",
       "  <thead>\n",
       "    <tr style=\"text-align: right;\">\n",
       "      <th></th>\n",
       "      <th>anat_cnr</th>\n",
       "      <th>anat_efc</th>\n",
       "      <th>anat_fber</th>\n",
       "      <th>anat_fwhm</th>\n",
       "      <th>anat_qi1</th>\n",
       "      <th>anat_snr</th>\n",
       "    </tr>\n",
       "  </thead>\n",
       "  <tbody>\n",
       "    <tr>\n",
       "      <th>count</th>\n",
       "      <td>1099.000000</td>\n",
       "      <td>1099.000000</td>\n",
       "      <td>1099.000000</td>\n",
       "      <td>1099.000000</td>\n",
       "      <td>1099.000000</td>\n",
       "      <td>1099.000000</td>\n",
       "    </tr>\n",
       "    <tr>\n",
       "      <th>mean</th>\n",
       "      <td>11.641527</td>\n",
       "      <td>2.079628</td>\n",
       "      <td>72.804971</td>\n",
       "      <td>3.558793</td>\n",
       "      <td>0.072209</td>\n",
       "      <td>48.185793</td>\n",
       "    </tr>\n",
       "    <tr>\n",
       "      <th>std</th>\n",
       "      <td>5.612932</td>\n",
       "      <td>11.435278</td>\n",
       "      <td>155.033640</td>\n",
       "      <td>0.676312</td>\n",
       "      <td>0.052283</td>\n",
       "      <td>282.736653</td>\n",
       "    </tr>\n",
       "    <tr>\n",
       "      <th>min</th>\n",
       "      <td>0.000015</td>\n",
       "      <td>-217.560433</td>\n",
       "      <td>-3.123743</td>\n",
       "      <td>2.533930</td>\n",
       "      <td>0.000451</td>\n",
       "      <td>0.001400</td>\n",
       "    </tr>\n",
       "    <tr>\n",
       "      <th>25%</th>\n",
       "      <td>8.613273</td>\n",
       "      <td>0.755764</td>\n",
       "      <td>3.898699</td>\n",
       "      <td>3.088846</td>\n",
       "      <td>0.040015</td>\n",
       "      <td>12.262756</td>\n",
       "    </tr>\n",
       "    <tr>\n",
       "      <th>50%</th>\n",
       "      <td>10.966648</td>\n",
       "      <td>1.675090</td>\n",
       "      <td>10.341742</td>\n",
       "      <td>3.401205</td>\n",
       "      <td>0.060916</td>\n",
       "      <td>15.601842</td>\n",
       "    </tr>\n",
       "    <tr>\n",
       "      <th>75%</th>\n",
       "      <td>13.181021</td>\n",
       "      <td>3.197335</td>\n",
       "      <td>86.028008</td>\n",
       "      <td>3.831771</td>\n",
       "      <td>0.093534</td>\n",
       "      <td>21.528386</td>\n",
       "    </tr>\n",
       "    <tr>\n",
       "      <th>max</th>\n",
       "      <td>51.691800</td>\n",
       "      <td>33.318370</td>\n",
       "      <td>1734.146859</td>\n",
       "      <td>5.938324</td>\n",
       "      <td>0.259048</td>\n",
       "      <td>5957.198529</td>\n",
       "    </tr>\n",
       "  </tbody>\n",
       "</table>\n",
       "</div>"
      ],
      "text/plain": [
       "          anat_cnr     anat_efc    anat_fber    anat_fwhm     anat_qi1  \\\n",
       "count  1099.000000  1099.000000  1099.000000  1099.000000  1099.000000   \n",
       "mean     11.641527     2.079628    72.804971     3.558793     0.072209   \n",
       "std       5.612932    11.435278   155.033640     0.676312     0.052283   \n",
       "min       0.000015  -217.560433    -3.123743     2.533930     0.000451   \n",
       "25%       8.613273     0.755764     3.898699     3.088846     0.040015   \n",
       "50%      10.966648     1.675090    10.341742     3.401205     0.060916   \n",
       "75%      13.181021     3.197335    86.028008     3.831771     0.093534   \n",
       "max      51.691800    33.318370  1734.146859     5.938324     0.259048   \n",
       "\n",
       "          anat_snr  \n",
       "count  1099.000000  \n",
       "mean     48.185793  \n",
       "std     282.736653  \n",
       "min       0.001400  \n",
       "25%      12.262756  \n",
       "50%      15.601842  \n",
       "75%      21.528386  \n",
       "max    5957.198529  "
      ]
     },
     "execution_count": 23,
     "metadata": {},
     "output_type": "execute_result"
    }
   ],
   "source": [
    "X_features = np.load(\"features.npz\")['a']\n",
    "y_target = np.load(\"labels.npz\")['a']\n",
    "df.describe()"
   ]
  },
  {
   "cell_type": "code",
   "execution_count": 25,
   "id": "35530140",
   "metadata": {},
   "outputs": [
    {
     "name": "stdout",
     "output_type": "stream",
     "text": [
      "anat_cnr : [10.20153877  7.16570147  7.69814438 ...  3.41346894  7.83900677\n",
      " 12.16929687]\n",
      "anat_efc : [1.19466382 1.12675161 1.22621772 ... 1.35823764 1.75436261 2.81835195]\n",
      "anat_fber : [16.22345825 10.4600076   9.72575046 ...  4.33569983 12.27005481\n",
      "  9.27210712]\n",
      "anat_fwhm : [3.8780004  4.28223801 3.88168429 ... 3.32455    3.23217    3.51019   ]\n",
      "anat_qi1 : [0.15271098 0.16171559 0.17418572 ... 0.10948991 0.08396437 0.04430978]\n",
      "anat_snr : [12.07245188  9.24115456  9.32346277 ...  4.93395956 16.4031739\n",
      " 23.56598215]\n"
     ]
    }
   ],
   "source": [
    "#Checking number of unique values and wrong entries like symbols -,?,#,*,etc.\n",
    "for col in df.columns:\n",
    "    print('{} : {}'.format(col,df[col].unique()))"
   ]
  },
  {
   "cell_type": "code",
   "execution_count": 26,
   "id": "6dc64176",
   "metadata": {},
   "outputs": [],
   "source": [
    "Xtrain, Xtest, ytrain, ytest = train_test_split(X_features, y_target, test_size=0.20, random_state = 42, shuffle = True, # shuffle dataset\n",
    "stratify = y_target)"
   ]
  },
  {
   "cell_type": "code",
   "execution_count": 27,
   "id": "9c536197",
   "metadata": {},
   "outputs": [
    {
     "data": {
      "text/plain": [
       "DecisionTreeClassifier(criterion='entropy', max_depth=5, min_samples_leaf=75,\n",
       "                       random_state=42)"
      ]
     },
     "execution_count": 27,
     "metadata": {},
     "output_type": "execute_result"
    }
   ],
   "source": [
    "model=DecisionTreeClassifier(criterion=\"entropy\", random_state= 42, splitter='best', max_depth=5, min_samples_leaf= 75)\n",
    "model.fit(Xtrain, ytrain)"
   ]
  },
  {
   "cell_type": "code",
   "execution_count": 28,
   "id": "6d5d0bde",
   "metadata": {},
   "outputs": [],
   "source": [
    "y_pred = model.predict(Xtest)"
   ]
  },
  {
   "cell_type": "code",
   "execution_count": 29,
   "id": "de2a8c4d",
   "metadata": {},
   "outputs": [
    {
     "name": "stdout",
     "output_type": "stream",
     "text": [
      "Train Accuracy: 0.6451149425287356\n",
      "Test Accuracy: 0.6057142857142858\n"
     ]
    }
   ],
   "source": [
    "print(\"Train Accuracy:\",model.score(Xtrain, ytrain))\n",
    "print(\"Test Accuracy:\", model.score(Xtest, ytest))"
   ]
  },
  {
   "cell_type": "code",
   "execution_count": null,
   "id": "0df42126",
   "metadata": {},
   "outputs": [],
   "source": [
    "#***no need to run this***\n",
    "\n",
    "# to find the value for max depth\n",
    "from sklearn import metrics\n",
    "test_accuracies = []\n",
    "\n",
    "for i in range(1, 15, 1):\n",
    "  dec_tree = DecisionTreeClassifier(max_depth =i, criterion='entropy', random_state=42)\n",
    "  dec_tree.fit(Xtrain, ytrain)   \n",
    "  dec_tree_train_score = dec_tree.score(Xtrain,ytrain)*100\n",
    "  print(f\"Training Accuracy for Decision tree with max_depth {i} = {round(dec_tree_train_score, 2)} %\")\n",
    "  y_pred_rf = dec_tree.predict(Xtest)\n",
    "  dec_tree  = (metrics.accuracy_score(ytest, y_pred_rf)*100)\n",
    "  print(f\"Testing Accuracy for Decision tree with max_depth {i} = {round(dec_tree, 2)} %\")\n",
    "  test_accuracies.append(round(dec_tree , 2)) ##\n",
    "\n",
    "print(f\"test accuracies found = {test_accuracies}\")\n",
    "best_accuracy = max(test_accuracies)\n",
    "print(f\"higest test accuracy for DT = {best_accuracy} and it is for max_depth = {test_accuracies.index(max(test_accuracies))+1}\")"
   ]
  },
  {
   "cell_type": "code",
   "execution_count": null,
   "id": "b79dc87a",
   "metadata": {},
   "outputs": [],
   "source": [
    "#***no need to run this***\n",
    "\n",
    "# to find the value for min_samples_leaf\n",
    "\n",
    "\n",
    "for i in range(1, 100, 1):\n",
    "  dec_tree = DecisionTreeClassifier(min_samples_leaf=i, criterion='entropy', random_state=42)\n",
    "  dec_tree.fit(Xtrain, ytrain)   \n",
    "  dec_tree_train_score = dec_tree.score(Xtrain,ytrain)*100\n",
    "  print(f\"Training Accuracy for Decision tree with min_samples_leaf {i} = {round(dec_tree_train_score, 2)} %\")\n",
    "  y_pred_rf = dec_tree.predict(Xtest)\n",
    "  dec_tree  = (metrics.accuracy_score(ytest, y_pred_rf)*100)\n",
    "  print(f\"Testing Accuracy for Decision tree with min_samples_leaf {i} = {round(dec_tree, 2)} %\")\n",
    "  test_accuracies.append(round(dec_tree , 2))\n",
    "\n",
    "print(f\"test accuracies found = {test_accuracies}\")\n",
    "best_accuracy = max(test_accuracies)\n",
    "print(f\"higest test accuracy for DT = {best_accuracy} and it is for min_samples_leaf = {test_accuracies.index(max(test_accuracies))+1}\")"
   ]
  },
  {
   "cell_type": "code",
   "execution_count": null,
   "id": "ede40dbb",
   "metadata": {},
   "outputs": [],
   "source": [
    "#***no need to run this***\n",
    "\n",
    "# to find the value for min_samples_split\n",
    "\n",
    "for i in range(2, 100, 1):\n",
    "  dec_tree = DecisionTreeClassifier(min_samples_split=i, criterion='entropy', random_state=42, max_depth = 5,min_samples_leaf =54 )\n",
    "  dec_tree.fit(Xtrain, ytrain)   \n",
    "  dec_tree_train_score = dec_tree.score(Xtrain,ytrain)*100\n",
    "  print(f\"Training Accuracy for Decisiion tree with min_samples_split {i} = {round(dec_tree_train_score, 2)} %\")\n",
    "  y_pred_rf = dec_tree.predict(Xtest)\n",
    "  dec_tree  = (metrics.accuracy_score(ytest, y_pred_rf)*100)\n",
    "  print(f\"Testing Accuracy for Decisiion tree with min_samples_split {i} = {round(dec_tree, 2)} %\")\n",
    "  test_accuracies.append(round(dec_tree , 2))\n",
    "\n",
    "print(f\"test accuracies found = {test_accuracies}\")\n",
    "best_accuracy = max(test_accuracies)\n",
    "print(f\"higest test accuracy for DT = {best_accuracy} and it is for min_samples_split = {test_accuracies.index(max(test_accuracies))+1}\")"
   ]
  },
  {
   "cell_type": "code",
   "execution_count": 30,
   "id": "7c0e5d98",
   "metadata": {
    "scrolled": true
   },
   "outputs": [
    {
     "name": "stderr",
     "output_type": "stream",
     "text": [
      "c:\\users\\user\\appdata\\local\\programs\\python\\python39\\lib\\site-packages\\sklearn\\utils\\deprecation.py:87: FutureWarning: Function plot_confusion_matrix is deprecated; Function `plot_confusion_matrix` is deprecated in 1.0 and will be removed in 1.2. Use one of the class methods: ConfusionMatrixDisplay.from_predictions or ConfusionMatrixDisplay.from_estimator.\n",
      "  warnings.warn(msg, category=FutureWarning)\n"
     ]
    },
    {
     "data": {
      "text/plain": [
       "<sklearn.metrics._plot.confusion_matrix.ConfusionMatrixDisplay at 0x1c754fd0fa0>"
      ]
     },
     "execution_count": 30,
     "metadata": {},
     "output_type": "execute_result"
    },
    {
     "data": {
      "image/png": "[encoded data removed]",
      "text/plain": [
       "<Figure size 432x288 with 2 Axes>"
      ]
     },
     "metadata": {
      "needs_background": "light"
     },
     "output_type": "display_data"
    }
   ],
   "source": [
    "plot_confusion_matrix(model,\n",
    "                      Xtest,\n",
    "                      ytest,\n",
    "                      values_format='d',\n",
    "                      display_labels=[\"ASD\",\"TD\"], cmap=\"Blues\")"
   ]
  },
  {
   "cell_type": "code",
   "execution_count": 31,
   "id": "3dc9fc34",
   "metadata": {},
   "outputs": [
    {
     "name": "stdout",
     "output_type": "stream",
     "text": [
      "              precision    recall  f1-score   support\n",
      "\n",
      "           1       0.58      0.56      0.57        81\n",
      "           2       0.63      0.65      0.64        94\n",
      "\n",
      "    accuracy                           0.61       175\n",
      "   macro avg       0.60      0.60      0.60       175\n",
      "weighted avg       0.60      0.61      0.61       175\n",
      "\n",
      "0.6057142857142858\n"
     ]
    }
   ],
   "source": [
    "from sklearn import metrics\n",
    "from sklearn.metrics import accuracy_score\n",
    "\n",
    "print(metrics.classification_report(ytest, model.predict(Xtest)))\n",
    "\n",
    "print(accuracy_score(ytest, model.predict(Xtest)))"
   ]
  },
  {
   "cell_type": "code",
   "execution_count": 32,
   "id": "55012c0a",
   "metadata": {},
   "outputs": [
    {
     "name": "stdout",
     "output_type": "stream",
     "text": [
      "Average CV Score:  0.4514285714285714\n"
     ]
    }
   ],
   "source": [
    "from sklearn.model_selection import KFold, cross_val_score \n",
    "\n",
    "k_folds = KFold(n_splits = 5)\n",
    "\n",
    "scores = cross_val_score(model, Xtest, ytest, cv = k_folds) \n",
    "print(\"Average CV Score: \", scores.mean())"
   ]
  },
  {
   "cell_type": "code",
   "execution_count": null,
   "id": "b86fe6c4",
   "metadata": {},
   "outputs": [],
   "source": []
  }
 ],
 "metadata": {
  "kernelspec": {
   "display_name": "Python 3 (ipykernel)",
   "language": "python",
   "name": "python3"
  },
  "language_info": {
   "codemirror_mode": {
    "name": "ipython",
    "version": 3
   },
   "file_extension": ".py",
   "mimetype": "text/x-python",
   "name": "python",
   "nbconvert_exporter": "python",
   "pygments_lexer": "ipython3",
   "version": "3.9.5"
  }
 },
 "nbformat": 4,
 "nbformat_minor": 5
}
