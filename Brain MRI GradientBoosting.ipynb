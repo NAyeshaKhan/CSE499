{
 "cells": [
  {
   "cell_type": "code",
   "execution_count": 46,
   "id": "05a850ab",
   "metadata": {},
   "outputs": [],
   "source": [
    "import numpy as np\n",
    "\n",
    "from sklearn.model_selection import train_test_split\n",
    "from sklearn.ensemble import GradientBoostingClassifier\n",
    "from sklearn.model_selection import GridSearchCV\n",
    "from sklearn.metrics import roc_auc_score\n",
    "\n",
    "from matplotlib import pyplot as plt\n",
    "import matplotlib.colors as colors\n",
    "\n",
    "from sklearn.utils import resample\n",
    "from sklearn.model_selection import train_test_split\n",
    "from sklearn.preprocessing import scale\n",
    "from sklearn.metrics import confusion_matrix\n",
    "from sklearn.metrics import plot_confusion_matrix\n",
    "from sklearn.metrics import accuracy_score\n",
    "from sklearn import metrics"
   ]
  },
  {
   "cell_type": "code",
   "execution_count": 47,
   "id": "f4ee551b",
   "metadata": {},
   "outputs": [],
   "source": [
    "y_target = np.load(\"labels.npz\")['a']\n",
    "X_features = np.load(\"features.npz\")['a']"
   ]
  },
  {
   "cell_type": "code",
   "execution_count": 48,
   "id": "47322404",
   "metadata": {},
   "outputs": [],
   "source": [
    "X_train, X_test, y_train, y_test = train_test_split(X_features, y_target, test_size=0.2, random_state = 42)"
   ]
  },
  {
   "cell_type": "code",
   "execution_count": 49,
   "id": "c8157979",
   "metadata": {},
   "outputs": [
    {
     "name": "stdout",
     "output_type": "stream",
     "text": [
      "      Iter       Train Loss   Remaining Time \n",
      "         1           1.3361            3.30m\n",
      "         2           1.3013            3.27m\n",
      "         3           1.2667            3.28m\n",
      "         4           1.2308            3.26m\n",
      "         5           1.2034            3.26m\n",
      "         6           1.1756            3.26m\n",
      "         7           1.1446            3.25m\n",
      "         8           1.1254            3.26m\n",
      "         9           1.0978            3.24m\n",
      "        10           1.0686            3.23m\n",
      "        20           0.8730            3.15m\n",
      "        30           0.7265            3.08m\n"
     ]
    },
    {
     "data": {
      "text/html": [
       "<style>#sk-container-id-6 {color: black;background-color: white;}#sk-container-id-6 pre{padding: 0;}#sk-container-id-6 div.sk-toggleable {background-color: white;}#sk-container-id-6 label.sk-toggleable__label {cursor: pointer;display: block;width: 100%;margin-bottom: 0;padding: 0.3em;box-sizing: border-box;text-align: center;}#sk-container-id-6 label.sk-toggleable__label-arrow:before {content: \"▸\";float: left;margin-right: 0.25em;color: #696969;}#sk-container-id-6 label.sk-toggleable__label-arrow:hover:before {color: black;}#sk-container-id-6 div.sk-estimator:hover label.sk-toggleable__label-arrow:before {color: black;}#sk-container-id-6 div.sk-toggleable__content {max-height: 0;max-width: 0;overflow: hidden;text-align: left;background-color: #f0f8ff;}#sk-container-id-6 div.sk-toggleable__content pre {margin: 0.2em;color: black;border-radius: 0.25em;background-color: #f0f8ff;}#sk-container-id-6 input.sk-toggleable__control:checked~div.sk-toggleable__content {max-height: 200px;max-width: 100%;overflow: auto;}#sk-container-id-6 input.sk-toggleable__control:checked~label.sk-toggleable__label-arrow:before {content: \"▾\";}#sk-container-id-6 div.sk-estimator input.sk-toggleable__control:checked~label.sk-toggleable__label {background-color: #d4ebff;}#sk-container-id-6 div.sk-label input.sk-toggleable__control:checked~label.sk-toggleable__label {background-color: #d4ebff;}#sk-container-id-6 input.sk-hidden--visually {border: 0;clip: rect(1px 1px 1px 1px);clip: rect(1px, 1px, 1px, 1px);height: 1px;margin: -1px;overflow: hidden;padding: 0;position: absolute;width: 1px;}#sk-container-id-6 div.sk-estimator {font-family: monospace;background-color: #f0f8ff;border: 1px dotted black;border-radius: 0.25em;box-sizing: border-box;margin-bottom: 0.5em;}#sk-container-id-6 div.sk-estimator:hover {background-color: #d4ebff;}#sk-container-id-6 div.sk-parallel-item::after {content: \"\";width: 100%;border-bottom: 1px solid gray;flex-grow: 1;}#sk-container-id-6 div.sk-label:hover label.sk-toggleable__label {background-color: #d4ebff;}#sk-container-id-6 div.sk-serial::before {content: \"\";position: absolute;border-left: 1px solid gray;box-sizing: border-box;top: 0;bottom: 0;left: 50%;z-index: 0;}#sk-container-id-6 div.sk-serial {display: flex;flex-direction: column;align-items: center;background-color: white;padding-right: 0.2em;padding-left: 0.2em;position: relative;}#sk-container-id-6 div.sk-item {position: relative;z-index: 1;}#sk-container-id-6 div.sk-parallel {display: flex;align-items: stretch;justify-content: center;background-color: white;position: relative;}#sk-container-id-6 div.sk-item::before, #sk-container-id-6 div.sk-parallel-item::before {content: \"\";position: absolute;border-left: 1px solid gray;box-sizing: border-box;top: 0;bottom: 0;left: 50%;z-index: -1;}#sk-container-id-6 div.sk-parallel-item {display: flex;flex-direction: column;z-index: 1;position: relative;background-color: white;}#sk-container-id-6 div.sk-parallel-item:first-child::after {align-self: flex-end;width: 50%;}#sk-container-id-6 div.sk-parallel-item:last-child::after {align-self: flex-start;width: 50%;}#sk-container-id-6 div.sk-parallel-item:only-child::after {width: 0;}#sk-container-id-6 div.sk-dashed-wrapped {border: 1px dashed gray;margin: 0 0.4em 0.5em 0.4em;box-sizing: border-box;padding-bottom: 0.4em;background-color: white;}#sk-container-id-6 div.sk-label label {font-family: monospace;font-weight: bold;display: inline-block;line-height: 1.2em;}#sk-container-id-6 div.sk-label-container {text-align: center;}#sk-container-id-6 div.sk-container {/* jupyter's `normalize.less` sets `[hidden] { display: none; }` but bootstrap.min.css set `[hidden] { display: none !important; }` so we also need the `!important` here to be able to override the default hidden behavior on the sphinx rendered scikit-learn.org. See: https://github.com/scikit-learn/scikit-learn/issues/21755 */display: inline-block !important;position: relative;}#sk-container-id-6 div.sk-text-repr-fallback {display: none;}</style><div id=\"sk-container-id-6\" class=\"sk-top-container\"><div class=\"sk-text-repr-fallback\"><pre>GradientBoostingClassifier(n_estimators=500, n_iter_no_change=20, verbose=1)</pre><b>In a Jupyter environment, please rerun this cell to show the HTML representation or trust the notebook. <br />On GitHub, the HTML representation is unable to render, please try loading this page with nbviewer.org.</b></div><div class=\"sk-container\" hidden><div class=\"sk-item\"><div class=\"sk-estimator sk-toggleable\"><input class=\"sk-toggleable__control sk-hidden--visually\" id=\"sk-estimator-id-6\" type=\"checkbox\" checked><label for=\"sk-estimator-id-6\" class=\"sk-toggleable__label sk-toggleable__label-arrow\">GradientBoostingClassifier</label><div class=\"sk-toggleable__content\"><pre>GradientBoostingClassifier(n_estimators=500, n_iter_no_change=20, verbose=1)</pre></div></div></div></div></div>"
      ],
      "text/plain": [
       "GradientBoostingClassifier(n_estimators=500, n_iter_no_change=20, verbose=1)"
      ]
     },
     "execution_count": 49,
     "metadata": {},
     "output_type": "execute_result"
    }
   ],
   "source": [
    "model_gbm = GradientBoostingClassifier(n_estimators=500,\n",
    "                                      learning_rate=0.1,\n",
    "                                      max_depth=3,\n",
    "                                      n_iter_no_change=20,\n",
    "                                      verbose=1)\n",
    "\n",
    "model_gbm.fit(X_train, y_train)"
   ]
  },
  {
   "cell_type": "code",
   "execution_count": 50,
   "id": "5a16c4ee",
   "metadata": {},
   "outputs": [
    {
     "name": "stdout",
     "output_type": "stream",
     "text": [
      "Training Accuracy is 94.68 %\n",
      "Testing Accuracy is 61.71 %\n"
     ]
    }
   ],
   "source": [
    "model_gbm_score = model_gbm.score(X_train,y_train)*100\n",
    "print(f'Training Accuracy is {round(model_gbm_score, 2)} %')\n",
    "y_pred = model_gbm.predict(X_test)\n",
    "gbm_test_acc = (metrics.accuracy_score(y_test, y_pred)*100)\n",
    "print(f\"Testing Accuracy is {round(gbm_test_acc, 2)} %\")"
   ]
  },
  {
   "cell_type": "code",
   "execution_count": 51,
   "id": "eed64615",
   "metadata": {},
   "outputs": [
    {
     "name": "stdout",
     "output_type": "stream",
     "text": [
      "Confusion matrix for logistic regression: \n"
     ]
    },
    {
     "name": "stderr",
     "output_type": "stream",
     "text": [
      "c:\\users\\user\\appdata\\local\\programs\\python\\python39\\lib\\site-packages\\sklearn\\utils\\deprecation.py:87: FutureWarning: Function plot_confusion_matrix is deprecated; Function `plot_confusion_matrix` is deprecated in 1.0 and will be removed in 1.2. Use one of the class methods: ConfusionMatrixDisplay.from_predictions or ConfusionMatrixDisplay.from_estimator.\n",
      "  warnings.warn(msg, category=FutureWarning)\n"
     ]
    },
    {
     "data": {
      "image/png": "[encoded data removed]",
      "text/plain": [
       "<Figure size 576x396 with 2 Axes>"
      ]
     },
     "metadata": {},
     "output_type": "display_data"
    }
   ],
   "source": [
    "print(\"Confusion matrix for logistic regression: \")\n",
    "plot_confusion_matrix(model_gbm, X_test, y_test)  \n",
    "plt.show()"
   ]
  },
  {
   "cell_type": "code",
   "execution_count": 52,
   "id": "78db44d7",
   "metadata": {},
   "outputs": [
    {
     "name": "stdout",
     "output_type": "stream",
     "text": [
      "              precision    recall  f1-score   support\n",
      "\n",
      "           1       0.61      0.52      0.56        83\n",
      "           2       0.62      0.71      0.66        92\n",
      "\n",
      "    accuracy                           0.62       175\n",
      "   macro avg       0.62      0.61      0.61       175\n",
      "weighted avg       0.62      0.62      0.61       175\n",
      "\n",
      "0.6171428571428571\n"
     ]
    }
   ],
   "source": [
    "from sklearn.metrics import accuracy_score\n",
    "\n",
    "print(metrics.classification_report(y_test, model_gbm.predict(X_test)))\n",
    "\n",
    "print(accuracy_score(y_test, model_gbm.predict(X_test)))"
   ]
  },
  {
   "cell_type": "code",
   "execution_count": 53,
   "id": "563beb4d",
   "metadata": {},
   "outputs": [
    {
     "name": "stdout",
     "output_type": "stream",
     "text": [
      "      Iter       Train Loss   Remaining Time \n",
      "         1           1.2511           31.94s\n",
      "         2           1.1443           30.88s\n",
      "         3           1.0441           30.48s\n",
      "         4           0.9711           30.76s\n",
      "         5           0.8829           30.49s\n",
      "         6           0.8138           30.30s\n",
      "         7           0.7468           30.43s\n",
      "         8           0.6986           30.51s\n",
      "         9           0.6600           30.35s\n",
      "        10           0.6120           30.07s\n",
      "        20           0.3157           29.63s\n",
      "        30           0.1651           28.75s\n",
      "        40           0.0952           28.19s\n",
      "        50           0.0527           27.47s\n",
      "        60           0.0293           26.82s\n",
      "      Iter       Train Loss   Remaining Time \n",
      "         1           1.2708           30.14s\n",
      "         2           1.1819           29.71s\n",
      "         3           1.0773           30.08s\n",
      "         4           0.9853           30.45s\n",
      "         5           0.8932           30.25s\n",
      "         6           0.8274           30.10s\n",
      "         7           0.7631           29.84s\n",
      "         8           0.6993           30.00s\n",
      "         9           0.6483           29.88s\n",
      "        10           0.6019           29.78s\n",
      "        20           0.3275           29.36s\n",
      "        30           0.1827           28.64s\n",
      "        40           0.1042           28.09s\n",
      "        50           0.0595           27.68s\n",
      "      Iter       Train Loss   Remaining Time \n",
      "         1           1.2421           27.96s\n",
      "         2           1.1346           28.89s\n",
      "         3           1.0370           29.16s\n",
      "         4           0.9533           30.26s\n",
      "         5           0.8670           29.70s\n",
      "         6           0.8089           29.97s\n",
      "         7           0.7441           29.86s\n",
      "         8           0.6836           30.51s\n",
      "         9           0.6384           31.64s\n",
      "        10           0.5982           32.15s\n",
      "        20           0.2995           31.68s\n",
      "      Iter       Train Loss   Remaining Time \n",
      "         1           1.2595           30.98s\n",
      "         2           1.1630           33.92s\n",
      "         3           1.0726           35.15s\n",
      "         4           0.9825           34.25s\n",
      "         5           0.9013           33.28s\n",
      "         6           0.8309           32.95s\n",
      "         7           0.7733           32.41s\n",
      "         8           0.7172           31.99s\n",
      "         9           0.6716           31.65s\n",
      "        10           0.6372           31.76s\n",
      "        20           0.3241           30.34s\n",
      "        30           0.1713           29.21s\n",
      "        40           0.0984           28.53s\n",
      "      Iter       Train Loss   Remaining Time \n",
      "         1           1.2875           29.92s\n",
      "         2           1.1706           29.88s\n",
      "         3           1.0676           29.82s\n",
      "         4           1.0067           31.74s\n",
      "         5           0.9266           31.68s\n",
      "         6           0.8588           31.61s\n",
      "         7           0.7880           31.55s\n",
      "         8           0.7271           31.49s\n",
      "         9           0.6859           32.51s\n",
      "        10           0.6386           33.12s\n",
      "        20           0.3298           32.35s\n",
      "        30           0.1802           31.40s\n",
      "        40           0.1054           33.35s\n",
      "Average CV Score:  0.5828571428571429\n"
     ]
    }
   ],
   "source": [
    "from sklearn.model_selection import KFold, cross_val_score \n",
    "\n",
    "k_folds = KFold(n_splits = 5)\n",
    "\n",
    "scores = cross_val_score(model_gbm, X_test, y_test, cv = k_folds) \n",
    "print(\"Average CV Score: \", scores.mean())"
   ]
  },
  {
   "cell_type": "code",
   "execution_count": 54,
   "id": "2845eded",
   "metadata": {},
   "outputs": [
    {
     "data": {
      "image/png": "[encoded data removed]",
      "text/plain": [
       "<Figure size 576x396 with 1 Axes>"
      ]
     },
     "metadata": {},
     "output_type": "display_data"
    }
   ],
   "source": [
    "# predict probabilities\n",
    "pred_prob = model_gbm.predict_proba(X_test)\n",
    "from sklearn.metrics import roc_curve\n",
    "\n",
    "# roc curve for models\n",
    "fpr, tpr, thresh = roc_curve(y_test, pred_prob[:,1], pos_label=1)\n",
    "\n",
    "# roc curve for tpr = fpr \n",
    "random_probs = [0 for i in range(len(y_test))]\n",
    "p_fpr, p_tpr, _ = roc_curve(y_test, random_probs, pos_label=1)\n",
    "\n",
    "import matplotlib.pyplot as plt\n",
    "plt.style.use('seaborn')\n",
    "\n",
    "# plot roc curves\n",
    "plt.plot(fpr, tpr, linestyle='--',color='orange', label='Gradient Boosting')\n",
    "plt.plot(p_fpr, p_tpr, linestyle='--', color='blue')\n",
    "# title\n",
    "plt.title('ROC curve')\n",
    "# x label\n",
    "plt.xlabel('False Positive Rate')\n",
    "# y label\n",
    "plt.ylabel('True Positive rate')\n",
    "\n",
    "plt.legend(loc='best')\n",
    "plt.savefig('ROC',dpi=300)\n",
    "plt.show();"
   ]
  }
 ],
 "metadata": {
  "kernelspec": {
   "display_name": "Python 3 (ipykernel)",
   "language": "python",
   "name": "python3"
  },
  "language_info": {
   "codemirror_mode": {
    "name": "ipython",
    "version": 3
   },
   "file_extension": ".py",
   "mimetype": "text/x-python",
   "name": "python",
   "nbconvert_exporter": "python",
   "pygments_lexer": "ipython3",
   "version": "3.9.5"
  }
 },
 "nbformat": 4,
 "nbformat_minor": 5
}
