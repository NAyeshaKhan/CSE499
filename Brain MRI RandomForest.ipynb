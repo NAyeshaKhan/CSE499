{
 "cells": [
  {
   "cell_type": "code",
   "execution_count": 1,
   "id": "288b61d3",
   "metadata": {},
   "outputs": [
    {
     "data": {
      "text/html": [
       "<div>\n",
       "<style scoped>\n",
       "    .dataframe tbody tr th:only-of-type {\n",
       "        vertical-align: middle;\n",
       "    }\n",
       "\n",
       "    .dataframe tbody tr th {\n",
       "        vertical-align: top;\n",
       "    }\n",
       "\n",
       "    .dataframe thead th {\n",
       "        text-align: right;\n",
       "    }\n",
       "</style>\n",
       "<table border=\"1\" class=\"dataframe\">\n",
       "  <thead>\n",
       "    <tr style=\"text-align: right;\">\n",
       "      <th></th>\n",
       "      <th>Unnamed: 0</th>\n",
       "      <th>SUB_ID</th>\n",
       "      <th>X</th>\n",
       "      <th>subject</th>\n",
       "      <th>SITE_ID</th>\n",
       "      <th>FILE_ID</th>\n",
       "      <th>DX_GROUP</th>\n",
       "      <th>anat_cnr</th>\n",
       "      <th>anat_efc</th>\n",
       "      <th>anat_fber</th>\n",
       "      <th>anat_fwhm</th>\n",
       "      <th>anat_qi1</th>\n",
       "      <th>anat_snr</th>\n",
       "    </tr>\n",
       "  </thead>\n",
       "  <tbody>\n",
       "    <tr>\n",
       "      <th>1107</th>\n",
       "      <td>1108</td>\n",
       "      <td>51583</td>\n",
       "      <td>1108</td>\n",
       "      <td>51583</td>\n",
       "      <td>SBL</td>\n",
       "      <td>SBL_0051583</td>\n",
       "      <td>1</td>\n",
       "      <td>3.899774</td>\n",
       "      <td>1.697271</td>\n",
       "      <td>3.465151</td>\n",
       "      <td>3.31883</td>\n",
       "      <td>0.096813</td>\n",
       "      <td>5.434540</td>\n",
       "    </tr>\n",
       "    <tr>\n",
       "      <th>1108</th>\n",
       "      <td>1109</td>\n",
       "      <td>51584</td>\n",
       "      <td>1109</td>\n",
       "      <td>51584</td>\n",
       "      <td>SBL</td>\n",
       "      <td>SBL_0051584</td>\n",
       "      <td>1</td>\n",
       "      <td>2.757735</td>\n",
       "      <td>1.073076</td>\n",
       "      <td>7.633618</td>\n",
       "      <td>3.30937</td>\n",
       "      <td>0.104817</td>\n",
       "      <td>4.516250</td>\n",
       "    </tr>\n",
       "    <tr>\n",
       "      <th>1109</th>\n",
       "      <td>1110</td>\n",
       "      <td>51585</td>\n",
       "      <td>1110</td>\n",
       "      <td>51585</td>\n",
       "      <td>SBL</td>\n",
       "      <td>SBL_0051585</td>\n",
       "      <td>1</td>\n",
       "      <td>3.413469</td>\n",
       "      <td>1.358238</td>\n",
       "      <td>4.335700</td>\n",
       "      <td>3.32455</td>\n",
       "      <td>0.109490</td>\n",
       "      <td>4.933960</td>\n",
       "    </tr>\n",
       "    <tr>\n",
       "      <th>1110</th>\n",
       "      <td>1111</td>\n",
       "      <td>51606</td>\n",
       "      <td>1111</td>\n",
       "      <td>51606</td>\n",
       "      <td>MAX_MUN</td>\n",
       "      <td>MaxMun_a_0051606</td>\n",
       "      <td>1</td>\n",
       "      <td>7.839007</td>\n",
       "      <td>1.754363</td>\n",
       "      <td>12.270055</td>\n",
       "      <td>3.23217</td>\n",
       "      <td>0.083964</td>\n",
       "      <td>16.403174</td>\n",
       "    </tr>\n",
       "    <tr>\n",
       "      <th>1111</th>\n",
       "      <td>1112</td>\n",
       "      <td>51607</td>\n",
       "      <td>1112</td>\n",
       "      <td>51607</td>\n",
       "      <td>MAX_MUN</td>\n",
       "      <td>MaxMun_a_0051607</td>\n",
       "      <td>1</td>\n",
       "      <td>12.169297</td>\n",
       "      <td>2.818352</td>\n",
       "      <td>9.272107</td>\n",
       "      <td>3.51019</td>\n",
       "      <td>0.044310</td>\n",
       "      <td>23.565982</td>\n",
       "    </tr>\n",
       "  </tbody>\n",
       "</table>\n",
       "</div>"
      ],
      "text/plain": [
       "      Unnamed: 0  SUB_ID     X  subject  SITE_ID           FILE_ID  DX_GROUP  \\\n",
       "1107        1108   51583  1108    51583      SBL       SBL_0051583         1   \n",
       "1108        1109   51584  1109    51584      SBL       SBL_0051584         1   \n",
       "1109        1110   51585  1110    51585      SBL       SBL_0051585         1   \n",
       "1110        1111   51606  1111    51606  MAX_MUN  MaxMun_a_0051606         1   \n",
       "1111        1112   51607  1112    51607  MAX_MUN  MaxMun_a_0051607         1   \n",
       "\n",
       "       anat_cnr  anat_efc  anat_fber  anat_fwhm  anat_qi1   anat_snr  \n",
       "1107   3.899774  1.697271   3.465151    3.31883  0.096813   5.434540  \n",
       "1108   2.757735  1.073076   7.633618    3.30937  0.104817   4.516250  \n",
       "1109   3.413469  1.358238   4.335700    3.32455  0.109490   4.933960  \n",
       "1110   7.839007  1.754363  12.270055    3.23217  0.083964  16.403174  \n",
       "1111  12.169297  2.818352   9.272107    3.51019  0.044310  23.565982  "
      ]
     },
     "execution_count": 1,
     "metadata": {},
     "output_type": "execute_result"
    }
   ],
   "source": [
    "import pandas as pd\n",
    "import numpy as np\n",
    "\n",
    "from matplotlib import pyplot as plt\n",
    "from sklearn.ensemble import RandomForestClassifier\n",
    "from sklearn import tree\n",
    "from sklearn.model_selection import train_test_split\n",
    "\n",
    "from sklearn.metrics import accuracy_score \n",
    "import pickle\n",
    "import joblib\n",
    "\n",
    "df=pd.read_csv('Phenotypic_V1_0b_preprocessed1.csv')\n",
    "df.tail()"
   ]
  },
  {
   "cell_type": "code",
   "execution_count": 2,
   "id": "17b0d956",
   "metadata": {},
   "outputs": [
    {
     "name": "stdout",
     "output_type": "stream",
     "text": [
      "Shape of initial dataset:\n",
      "(1112, 13)\n",
      "Number of null values:\n",
      "Unnamed: 0     0\n",
      "SUB_ID         0\n",
      "X              0\n",
      "subject        0\n",
      "SITE_ID        0\n",
      "FILE_ID        0\n",
      "DX_GROUP       0\n",
      "anat_cnr      13\n",
      "anat_efc      13\n",
      "anat_fber     13\n",
      "anat_fwhm     13\n",
      "anat_qi1      13\n",
      "anat_snr      13\n",
      "dtype: int64\n"
     ]
    }
   ],
   "source": [
    "df.describe()\n",
    "print('Shape of initial dataset:')\n",
    "print(df.shape)\n",
    "\n",
    "#Checking for null values to fill\n",
    "print(\"Number of null values:\")\n",
    "print(df.isnull().sum())"
   ]
  },
  {
   "cell_type": "code",
   "execution_count": 3,
   "id": "34e07fa0",
   "metadata": {},
   "outputs": [
    {
     "name": "stdout",
     "output_type": "stream",
     "text": [
      "Number of null values:\n",
      "Unnamed: 0    0\n",
      "SUB_ID        0\n",
      "X             0\n",
      "subject       0\n",
      "SITE_ID       0\n",
      "FILE_ID       0\n",
      "DX_GROUP      0\n",
      "anat_cnr      0\n",
      "anat_efc      0\n",
      "anat_fber     0\n",
      "anat_fwhm     0\n",
      "anat_qi1      0\n",
      "anat_snr      0\n",
      "dtype: int64\n"
     ]
    }
   ],
   "source": [
    "#Dropping empty columns\n",
    "df['anat_cnr'].replace('', np.nan, inplace=True)\n",
    "df['anat_efc'].replace('', np.nan, inplace=True)\n",
    "df['anat_fber'].replace('', np.nan, inplace=True)\n",
    "df['anat_fwhm'].replace('', np.nan, inplace=True)\n",
    "df['anat_qi1'].replace('', np.nan, inplace=True)\n",
    "df['anat_snr'].replace('', np.nan, inplace=True)\n",
    "\n",
    "#Replacing null values in all relevant input columns\n",
    "df.dropna(subset=['anat_cnr','anat_efc', 'anat_fber', 'anat_fwhm', 'anat_qi1', 'anat_snr'], inplace=True)\n",
    "\n",
    "#Verifying number of null rows\n",
    "print(\"Number of null values:\")\n",
    "print(df.isnull().sum())"
   ]
  },
  {
   "cell_type": "code",
   "execution_count": 4,
   "id": "c45d8222",
   "metadata": {},
   "outputs": [
    {
     "name": "stdout",
     "output_type": "stream",
     "text": [
      "Unnamed: 0 : [   1    2    3 ... 1110 1111 1112]\n",
      "SUB_ID : [50002 50003 50004 ... 51585 51606 51607]\n",
      "X : [   1    2    3 ... 1110 1111 1112]\n",
      "subject : [50002 50003 50004 ... 51585 51606 51607]\n",
      "SITE_ID : ['PITT' 'OLIN' 'OHSU' 'SDSU' 'TRINITY' 'UM_1' 'UM_2' 'USM' 'YALE' 'CMU'\n",
      " 'LEUVEN_1' 'LEUVEN_2' 'KKI' 'NYU' 'STANFORD' 'UCLA_1' 'UCLA_2' 'MAX_MUN'\n",
      " 'CALTECH' 'SBL']\n",
      "FILE_ID : ['no_filename' 'Pitt_0050003' 'Pitt_0050004' ... 'SBL_0051585'\n",
      " 'MaxMun_a_0051606' 'MaxMun_a_0051607']\n",
      "DX_GROUP : [1 2]\n",
      "anat_cnr : [10.20153877  7.16570147  7.69814438 ...  3.41346894  7.83900677\n",
      " 12.16929687]\n",
      "anat_efc : [1.19466382 1.12675161 1.22621772 ... 1.35823764 1.75436261 2.81835195]\n",
      "anat_fber : [16.22345825 10.4600076   9.72575046 ...  4.33569983 12.27005481\n",
      "  9.27210712]\n",
      "anat_fwhm : [3.8780004  4.28223801 3.88168429 ... 3.32455    3.23217    3.51019   ]\n",
      "anat_qi1 : [0.15271098 0.16171559 0.17418572 ... 0.10948991 0.08396437 0.04430978]\n",
      "anat_snr : [12.07245188  9.24115456  9.32346277 ...  4.93395956 16.4031739\n",
      " 23.56598215]\n"
     ]
    }
   ],
   "source": [
    "#Checking number of unique values and wrong entries like symbols -,?,#,*,etc.\n",
    "for col in df.columns:\n",
    "    print('{} : {}'.format(col,df[col].unique()))"
   ]
  },
  {
   "cell_type": "code",
   "execution_count": 5,
   "id": "74ba3bee",
   "metadata": {},
   "outputs": [
    {
     "data": {
      "text/plain": [
       "False"
      ]
     },
     "execution_count": 5,
     "metadata": {},
     "output_type": "execute_result"
    }
   ],
   "source": [
    "np.isnan(df.values.any()) "
   ]
  },
  {
   "cell_type": "code",
   "execution_count": 6,
   "id": "f330ca8c",
   "metadata": {},
   "outputs": [],
   "source": [
    "X_features = np.load(\"features.npz\")['a']"
   ]
  },
  {
   "cell_type": "code",
   "execution_count": 7,
   "id": "7097f5ae",
   "metadata": {},
   "outputs": [],
   "source": [
    "y_target = np.load(\"labels.npz\")['a']"
   ]
  },
  {
   "cell_type": "code",
   "execution_count": 8,
   "id": "935c713c",
   "metadata": {},
   "outputs": [],
   "source": [
    "Xtrain, Xtest, ytrain, ytest = train_test_split(X_features, y_target, test_size=0.20, random_state = 42, shuffle = True, # shuffle dataset\n",
    "stratify = y_target)"
   ]
  },
  {
   "cell_type": "code",
   "execution_count": 9,
   "id": "a19bd440",
   "metadata": {
    "scrolled": true
   },
   "outputs": [],
   "source": [
    "model=RandomForestClassifier(bootstrap=True, class_weight=None, criterion='entropy',\n",
    "            max_depth=7, max_features='auto', max_leaf_nodes=None,\n",
    "            min_impurity_decrease=0.0,\n",
    "            min_samples_leaf=1, min_samples_split=2,\n",
    "            min_weight_fraction_leaf=0.0, n_estimators=100, n_jobs=1,\n",
    "            oob_score=False, random_state=None, verbose=0,\n",
    "            warm_start=False)\n",
    "model.fit(Xtrain,ytrain)\n",
    "\n",
    "y_pred=model.predict(Xtest)"
   ]
  },
  {
   "cell_type": "code",
   "execution_count": 10,
   "id": "de89638c",
   "metadata": {},
   "outputs": [
    {
     "name": "stdout",
     "output_type": "stream",
     "text": [
      "Train Accuracy: 0.9985632183908046\n",
      "Test Accuracy: 0.6628571428571428\n"
     ]
    }
   ],
   "source": [
    "print(\"Train Accuracy:\",model.score(Xtrain, ytrain))\n",
    "print(\"Test Accuracy:\", model.score(Xtest, ytest))"
   ]
  },
  {
   "cell_type": "code",
   "execution_count": 11,
   "id": "a5a4817c",
   "metadata": {
    "scrolled": true
   },
   "outputs": [
    {
     "name": "stdout",
     "output_type": "stream",
     "text": [
      "              precision    recall  f1-score   support\n",
      "\n",
      "           1       0.68      0.52      0.59        81\n",
      "           2       0.65      0.79      0.71        94\n",
      "\n",
      "    accuracy                           0.66       175\n",
      "   macro avg       0.67      0.65      0.65       175\n",
      "weighted avg       0.67      0.66      0.66       175\n",
      "\n",
      "0.6628571428571428\n"
     ]
    }
   ],
   "source": [
    "from sklearn import metrics\n",
    "\n",
    "#Classification accuracy\n",
    "print(metrics.classification_report(ytest, model.predict(Xtest)))\n",
    "\n",
    "print(accuracy_score(ytest, model.predict(Xtest)))"
   ]
  },
  {
   "cell_type": "code",
   "execution_count": 14,
   "id": "ee95c7fc",
   "metadata": {},
   "outputs": [
    {
     "name": "stderr",
     "output_type": "stream",
     "text": [
      "c:\\python39\\lib\\site-packages\\sklearn\\utils\\deprecation.py:87: FutureWarning: Function plot_confusion_matrix is deprecated; Function `plot_confusion_matrix` is deprecated in 1.0 and will be removed in 1.2. Use one of the class methods: ConfusionMatrixDisplay.from_predictions or ConfusionMatrixDisplay.from_estimator.\n",
      "  warnings.warn(msg, category=FutureWarning)\n"
     ]
    },
    {
     "data": {
      "text/plain": [
       "<sklearn.metrics._plot.confusion_matrix.ConfusionMatrixDisplay at 0x2466a68c2e0>"
      ]
     },
     "execution_count": 14,
     "metadata": {},
     "output_type": "execute_result"
    },
    {
     "data": {
      "image/png": "[encoded data removed]",
      "text/plain": [
       "<Figure size 576x396 with 2 Axes>"
      ]
     },
     "metadata": {},
     "output_type": "display_data"
    }
   ],
   "source": [
    "from sklearn.metrics import plot_confusion_matrix\n",
    "plot_confusion_matrix(model,\n",
    "                      Xtest, ytest,\n",
    "                      values_format='d',\n",
    "                      display_labels=[\"ASD\",\"TD\"], cmap=\"Blues\")"
   ]
  },
  {
   "cell_type": "code",
   "execution_count": 12,
   "id": "c90dda6d",
   "metadata": {},
   "outputs": [
    {
     "name": "stdout",
     "output_type": "stream",
     "text": [
      "Average CV Score:  0.5657142857142856\n"
     ]
    }
   ],
   "source": [
    "from sklearn.model_selection import KFold, cross_val_score \n",
    "\n",
    "k_folds = KFold(n_splits = 5)\n",
    "\n",
    "scores = cross_val_score(model, Xtest, ytest, cv = k_folds) \n",
    "print(\"Average CV Score: \", scores.mean())"
   ]
  },
  {
   "cell_type": "code",
   "execution_count": 13,
   "id": "3c5ce9be",
   "metadata": {},
   "outputs": [
    {
     "data": {
      "image/png": "[encoded data removed]",
      "text/plain": [
       "<Figure size 576x396 with 1 Axes>"
      ]
     },
     "metadata": {},
     "output_type": "display_data"
    }
   ],
   "source": [
    "# predict probabilities\n",
    "\n",
    "pred_prob = model.predict_proba(Xtest)\n",
    "from sklearn.metrics import roc_curve\n",
    "\n",
    "# roc curve for models\n",
    "fpr, tpr, thresh = roc_curve(ytest, pred_prob[:,1], pos_label=1)\n",
    "\n",
    "# roc curve for tpr = fpr \n",
    "random_probs = [0 for i in range(len(ytest))]\n",
    "p_fpr, p_tpr, _ = roc_curve(ytest, random_probs, pos_label=1)\n",
    "\n",
    "import matplotlib.pyplot as plt\n",
    "plt.style.use('seaborn')\n",
    "\n",
    "# plot roc curves\n",
    "plt.plot(fpr, tpr, linestyle='--',color='orange', label='Random Forest')\n",
    "plt.plot(p_fpr, p_tpr, linestyle='--', color='blue')\n",
    "# title\n",
    "plt.title('ROC curve')\n",
    "# x label\n",
    "plt.xlabel('False Positive Rate')\n",
    "# y label\n",
    "plt.ylabel('True Positive rate')\n",
    "\n",
    "plt.legend(loc='best')\n",
    "plt.savefig('ROC',dpi=300)\n",
    "plt.show();"
   ]
  },
  {
   "cell_type": "code",
   "execution_count": null,
   "id": "f062e25d",
   "metadata": {},
   "outputs": [],
   "source": []
  }
 ],
 "metadata": {
  "kernelspec": {
   "display_name": "Python 3 (ipykernel)",
   "language": "python",
   "name": "python3"
  },
  "language_info": {
   "codemirror_mode": {
    "name": "ipython",
    "version": 3
   },
   "file_extension": ".py",
   "mimetype": "text/x-python",
   "name": "python",
   "nbconvert_exporter": "python",
   "pygments_lexer": "ipython3",
   "version": "3.9.5"
  }
 },
 "nbformat": 4,
 "nbformat_minor": 5
}
